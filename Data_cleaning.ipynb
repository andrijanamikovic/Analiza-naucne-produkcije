{
 "cells": [
  {
   "cell_type": "code",
   "execution_count": 73,
   "metadata": {},
   "outputs": [],
   "source": [
    "import pickle\n",
    "import pandas as pd\n",
    "import matplotlib.pyplot as plt\n",
    "\n",
    "pd.set_option('display.max_columns', None)  # Show all columns\n",
    "pd.set_option('display.expand_frame_repr', False)  # Prevent wrapping to new lines"
   ]
  },
  {
   "cell_type": "code",
   "execution_count": 74,
   "metadata": {},
   "outputs": [],
   "source": [
    "def input_data():\n",
    "    autori = pd.read_excel(\"./data/autori.xlsx\")\n",
    "    epidem = pd.read_excel(\"./data/epidemiologija.xlsx\")\n",
    "    imun = pd.read_excel(\"./data/imunologija.xlsx\")\n",
    "    infek = pd.read_excel(\"./data/infektivne_bolesti.xlsx\")\n",
    "    mikro = pd.read_excel(\"./data/mikrobiologija.xlsx\")\n",
    "    return autori, epidem, imun,infek,mikro\n",
    "\n",
    "autori, epidem, imun, infek, mikro = input_data()"
   ]
  },
  {
   "cell_type": "code",
   "execution_count": 75,
   "metadata": {},
   "outputs": [
    {
     "name": "stdout",
     "output_type": "stream",
     "text": [
      "          Ime            Prezime                    Katedra H indeks  Broj radova\n",
      "0       Tanja          Jovanovic  Katedra za mikrobiologiju       11         45.0\n",
      "1  Branislava              Savic  Katedra za mikrobiologiju       10         30.0\n",
      "2       Sanja           Mitrovic  Katedra za mikrobiologiju        4         20.0\n",
      "3       Lazar              Ranin  Katedra za mikrobiologiju        7         40.0\n",
      "4   Valentina  Arsic-Arsenijevic  Katedra za mikrobiologiju       17         52.0\n",
      "Tipovi kolona za autore: Ime             object\n",
      "Prezime         object\n",
      "Katedra         object\n",
      "H indeks        object\n",
      "Broj radova    float64\n",
      "id               int64\n",
      "dtype: object\n"
     ]
    }
   ],
   "source": [
    "print(autori.head())\n",
    "autori['id'] = autori.index\n",
    "print(f\"Tipovi kolona za autore: {autori.dtypes}\")"
   ]
  },
  {
   "cell_type": "code",
   "execution_count": 76,
   "metadata": {},
   "outputs": [
    {
     "name": "stdout",
     "output_type": "stream",
     "text": [
      "Redovi koje sadrze null vrednosti autori: \n",
      "            Ime      Prezime                    Katedra  H indeks  Broj radova  id\n",
      "21    Danijela   Miljanovic  Katedra za mikrobiologiju       1.0          NaN  21\n",
      "22       Marko     Jankovic  Katedra za mikrobiologiju       NaN          NaN  22\n",
      "24      Stefan    Mijatovic  Katedra za mikrobiologiju       NaN          NaN  24\n",
      "31      Marina  Stamenkovic     Katedra za imunologiju       NaN          NaN  31\n",
      "43  Aleksandra      Nikolic  Katedra za epidemiologiju       NaN          NaN  43\n",
      "44      Aleksa    Jovanovic  Katedra za epidemiologiju       NaN          NaN  44\n",
      "Broj autora pre izbacivanja: 59\n"
     ]
    }
   ],
   "source": [
    "autori['H indeks'] = pd.to_numeric(autori['H indeks'], errors='coerce')\n",
    "# uklanjanje autora za koje nemam podataka o broju radova i H indeksu\n",
    "autori_null_rows = autori[pd.DataFrame(autori).isnull().any(axis=1)]\n",
    "print(f\"Redovi koje sadrze null vrednosti autori: \\n {autori_null_rows}\")\n",
    "print(f'Broj autora pre izbacivanja: {autori.shape[0]}')"
   ]
  },
  {
   "cell_type": "code",
   "execution_count": 77,
   "metadata": {},
   "outputs": [
    {
     "name": "stdout",
     "output_type": "stream",
     "text": [
      "Da li sada sadrze null vrednosti autori: Ime            False\n",
      "Prezime        False\n",
      "Katedra        False\n",
      "H indeks       False\n",
      "Broj radova    False\n",
      "id             False\n",
      "dtype: bool\n",
      "Broj autora nakon izbacivanja: 53\n"
     ]
    }
   ],
   "source": [
    "autori = autori.dropna()\n",
    "print(f\"Da li sada sadrze null vrednosti autori: {pd.DataFrame(autori).isnull().any()}\")\n",
    "autori['H indeks'] = autori['H indeks'].astype('int64')\n",
    "autori['Broj radova'] = autori['Broj radova'].astype('int64')\n",
    "print(f'Broj autora nakon izbacivanja: {autori.shape[0]}')"
   ]
  },
  {
   "cell_type": "code",
   "execution_count": 78,
   "metadata": {},
   "outputs": [
    {
     "name": "stdout",
     "output_type": "stream",
     "text": [
      "Tipovi nakon promene autori: Ime            object\n",
      "Prezime        object\n",
      "Katedra        object\n",
      "H indeks        int64\n",
      "Broj radova     int64\n",
      "id              int64\n",
      "dtype: object\n",
      "Redovi sa dupliranim imenom i prezimenom: Empty DataFrame\n",
      "Columns: [Ime, Prezime, Katedra, H indeks, Broj radova, id]\n",
      "Index: []\n"
     ]
    }
   ],
   "source": [
    "print(f'Tipovi nakon promene autori: {autori.dtypes}')\n",
    "# provera da li su ime i prezime jedinstveni kao celina\n",
    "full_name_authors_duplicated = autori.duplicated(subset=['Ime', 'Prezime'], keep=False)\n",
    "print(f\"Redovi sa dupliranim imenom i prezimenom: {autori[full_name_authors_duplicated]}\")"
   ]
  },
  {
   "cell_type": "code",
   "execution_count": 79,
   "metadata": {},
   "outputs": [],
   "source": [
    "autori['Ime'] = autori['Ime'].str.lower()\n",
    "autori['Prezime'] = autori['Prezime'].str.lower()\n",
    "autori['Katedra'] = autori['Katedra'].str.lower()\n",
    "autori['Puno ime'] = autori['Ime'].str.cat(autori['Prezime'], sep=' ', na_rep='')\n",
    "autori['Skraceno'] = autori['Prezime']+' ' + autori['Ime'].str[0]+'.'\n",
    "#ako prezime ima crticu jasmina simonovic babic ona je skraceno napisana koa babic j.s. ili kao simonovic-babic j.???\n",
    "#two_last_names = autori[autori['Prezime'].str.contains('-')]\n",
    "#print(f'Dva prezimena imaju \\n {two_last_names}')\n",
    "#Proveri za ovo"
   ]
  },
  {
   "cell_type": "code",
   "execution_count": 80,
   "metadata": {},
   "outputs": [],
   "source": [
    "with open('./data/autori_cleaned', 'wb') as file:\n",
    "    pickle.dump(autori, file)"
   ]
  },
  {
   "cell_type": "code",
   "execution_count": 81,
   "metadata": {},
   "outputs": [
    {
     "name": "stdout",
     "output_type": "stream",
     "text": [
      "Broj radova po razlicitim katedrama\n",
      "                     Katedra  Broj radova\n",
      "0         infektivne bolesti          273\n",
      "1  katedra za epidemiologiju          673\n",
      "2     katedra za imunologiju          368\n",
      "3  katedra za mikrobiologiju          661\n",
      "Infektivne iz fajla:  (274, 15)\n",
      "Epidemiologija iz fajla:  (673, 15)\n",
      "Imunologija iz fajla:  (369, 15)\n",
      "Mikrobiologija iz fajla:  (661, 15)\n"
     ]
    }
   ],
   "source": [
    "#prikaz raspodele broja radova po katedrama\n",
    "department_pappers = autori.groupby('Katedra')['Broj radova'].sum().reset_index()\n",
    "print(\"Broj radova po razlicitim katedrama\")\n",
    "print(department_pappers)\n",
    "print(\"Infektivne iz fajla: \", infek.shape)\n",
    "print(\"Epidemiologija iz fajla: \", epidem.shape)\n",
    "print(\"Imunologija iz fajla: \", imun.shape)\n",
    "print(\"Mikrobiologija iz fajla: \", mikro.shape)\n",
    "#Vidim da potencijalno imam ponovljen rad u fajlu za infektivne i za imunologiju"
   ]
  },
  {
   "cell_type": "code",
   "execution_count": 82,
   "metadata": {},
   "outputs": [
    {
     "name": "stdout",
     "output_type": "stream",
     "text": [
      "Infektivne iz fajla:  (266, 15)\n",
      "Epidemiologija iz fajla:  (665, 15)\n",
      "Imunologija iz fajla:  (344, 15)\n",
      "Mikrobiologija iz fajla:  (638, 15)\n"
     ]
    }
   ],
   "source": [
    "\n",
    "good_articles_format = ['Article', 'Article in Press', 'Review', 'Book Chapter', 'Letter', 'Note']\n",
    "#Izbaceni radovi objavljeni u ne validnim formatima\n",
    "infek = infek[infek['Document Type'].isin(good_articles_format)]\n",
    "epidem = epidem[epidem['Document Type'].isin(good_articles_format)]\n",
    "imun = imun[imun['Document Type'].isin(good_articles_format)]\n",
    "mikro = mikro[mikro['Document Type'].isin(good_articles_format)]\n",
    "print(\"Infektivne iz fajla: \", infek.shape)\n",
    "print(\"Epidemiologija iz fajla: \", epidem.shape)\n",
    "print(\"Imunologija iz fajla: \", imun.shape)\n",
    "print(\"Mikrobiologija iz fajla: \", mikro.shape)\n"
   ]
  },
  {
   "cell_type": "code",
   "execution_count": 83,
   "metadata": {},
   "outputs": [
    {
     "name": "stdout",
     "output_type": "stream",
     "text": [
      "                    Author                                            Authors                                              Title    Year                                  Source title Volume Issue Art. No. Page start Page end  Page count  Cited by                                               Link     Document Type  Source\n",
      "0  Jasmina Simonovic-Babic  Chkhartishvili N., Holban T., Babić J.S., Alex...  State of viral hepatitis care in 16 countries ...  2019.0     Central European Journal of Public Health     27     3      NaN        212      216         NaN       NaN  https://www.scopus.com/inward/record.uri?eid=2...           Article  Scopus\n",
      "1  Jasmina Simonovic-Babic  Jordovic J., Simonovic-Babic J., Gasic V., Kot...  IL-28B genotypes as predictors of long-term ou...  2019.0  Journal of Infection in Developing Countries     13     6      NaN        526      535         NaN       1.0  https://www.scopus.com/inward/record.uri?eid=2...           Article  Scopus\n",
      "2  Jasmina Simonovic-Babic  Jordovic J., Bojovic K., Simonovic-Babic J., G...  Significance of UGT1A1∗28 genotype in patients...  2019.0               Journal of Medical Biochemistry     38     1      NaN         45       52         NaN       2.0  https://www.scopus.com/inward/record.uri?eid=2...           Article  Scopus\n",
      "3  Jasmina Simonovic-Babic  Kowalska J.D., Bursa D., Gökengin D., Jilich D...  HIV health care providers are ready to introdu...  2018.0                                  HIV Medicine     19     9      NaN        629      633         NaN       2.0  https://www.scopus.com/inward/record.uri?eid=2...           Article  Scopus\n",
      "4  Jasmina Simonovic-Babic  Jordovic J., Bojovic K., Simonovic-Babic J., G...  Significance of UGT1A1∗28 Genotype in Patients...  2018.0               Journal of Medical Biochemistry    NaN   NaN      NaN          1        8         NaN       NaN  https://www.scopus.com/inward/record.uri?eid=2...  Article in Press  Scopus\n",
      "Kolone koje sadrze null vrednosti infek: \n",
      " Author           False\n",
      "Authors          False\n",
      "Title            False\n",
      "Year             False\n",
      "Source title     False\n",
      "Volume            True\n",
      "Issue             True\n",
      "Art. No.          True\n",
      "Page start        True\n",
      "Page end          True\n",
      "Page count        True\n",
      "Cited by          True\n",
      "Link             False\n",
      "Document Type    False\n",
      "Source           False\n",
      "dtype: bool\n"
     ]
    }
   ],
   "source": [
    "print(infek.head())\n",
    "infek_null_rows = pd.DataFrame(infek).isnull().any(axis=0)\n",
    "print(f\"Kolone koje sadrze null vrednosti infek: \\n {infek_null_rows}\")\n",
    "for column in ['Volume', 'Art. No.', 'Page start','Page end','Page count','Link','Source']:\n",
    "    if column  in infek.columns:\n",
    "        infek = infek.drop([column], axis=1)\n",
    "    if column in epidem.columns:\n",
    "        epidem = epidem.drop([column], axis=1)\n",
    "    if column in imun.columns:\n",
    "        imun = imun.drop([column], axis=1)\n",
    "    if column in mikro.columns:\n",
    "        mikro = mikro.drop([column], axis=1)"
   ]
  },
  {
   "cell_type": "code",
   "execution_count": 84,
   "metadata": {},
   "outputs": [
    {
     "name": "stdout",
     "output_type": "stream",
     "text": [
      "Infektivne kolone = Index(['Author', 'Authors', 'Title', 'Year', 'Source title', 'Issue',\n",
      "       'Cited by', 'Document Type'],\n",
      "      dtype='object')\n",
      "Epidemiologija kolone = Index(['Author', 'Authors', 'Title', 'Year', 'Source title', 'Issue',\n",
      "       'Cited by', 'Document Type'],\n",
      "      dtype='object')\n",
      "Imunologija kolone = Index(['Author', 'Authors', 'Title', 'Year', 'Source title', 'Issue',\n",
      "       'Cited by', 'Document Type'],\n",
      "      dtype='object')\n",
      "Mikrobiologija kolone = Index(['Author', 'Authors', 'Title', 'Year', 'Source title', 'Issue',\n",
      "       'Cited by', 'Document Type'],\n",
      "      dtype='object')\n"
     ]
    }
   ],
   "source": [
    "print(f\"Infektivne kolone = {infek.columns}\")\n",
    "print(f\"Epidemiologija kolone = {epidem.columns}\")\n",
    "print(f\"Imunologija kolone = {imun.columns}\")\n",
    "print(f\"Mikrobiologija kolone = {mikro.columns}\")"
   ]
  },
  {
   "cell_type": "code",
   "execution_count": 85,
   "metadata": {},
   "outputs": [
    {
     "name": "stdout",
     "output_type": "stream",
     "text": [
      "                    Author                                            Authors                                              Title    Year                                  Source title Issue  Cited by     Document Type\n",
      "0  jasmina simonovic-babic  chkhartishvili n., holban t., babić j.s., alex...  state of viral hepatitis care in 16 countries ...  2019.0     central european journal of public health     3       NaN           Article\n",
      "1  jasmina simonovic-babic  jordovic j., simonovic-babic j., gasic v., kot...  il-28b genotypes as predictors of long-term ou...  2019.0  journal of infection in developing countries     6       1.0           Article\n",
      "2  jasmina simonovic-babic  jordovic j., bojovic k., simonovic-babic j., g...  significance of ugt1a1∗28 genotype in patients...  2019.0               journal of medical biochemistry     1       2.0           Article\n",
      "3  jasmina simonovic-babic  kowalska j.d., bursa d., gökengin d., jilich d...  hiv health care providers are ready to introdu...  2018.0                                  hiv medicine     9       2.0           Article\n",
      "4  jasmina simonovic-babic  jordovic j., bojovic k., simonovic-babic j., g...  significance of ugt1a1∗28 genotype in patients...  2018.0               journal of medical biochemistry   NaN       NaN  Article in Press\n",
      "Infektivno dataTypes: Author            object\n",
      "Authors           object\n",
      "Title             object\n",
      "Year             float64\n",
      "Source title      object\n",
      "Issue             object\n",
      "Cited by         float64\n",
      "Document Type     object\n",
      "dtype: object\n",
      "Epidemiologija dataTypes: Author            object\n",
      "Authors           object\n",
      "Title             object\n",
      "Year               int64\n",
      "Source title      object\n",
      "Issue             object\n",
      "Cited by         float64\n",
      "Document Type     object\n",
      "dtype: object\n",
      "Imuno dataTypes: Author            object\n",
      "Authors           object\n",
      "Title             object\n",
      "Year             float64\n",
      "Source title      object\n",
      "Issue             object\n",
      "Cited by         float64\n",
      "Document Type     object\n",
      "dtype: object\n",
      "Mikro dataTypes: Author            object\n",
      "Authors           object\n",
      "Title             object\n",
      "Year               int64\n",
      "Source title      object\n",
      "Issue             object\n",
      "Cited by         float64\n",
      "Document Type     object\n",
      "dtype: object\n"
     ]
    }
   ],
   "source": [
    "for column in ['Author', 'Authors','Source title', 'Title']:\n",
    "    if column in infek.columns:\n",
    "        infek[column] = infek[column].str.lower()\n",
    "    if column in epidem.columns:\n",
    "        epidem[column] = epidem[column].str.lower()\n",
    "    if column in imun.columns:\n",
    "        imun[column] = imun[column].str.lower()\n",
    "    if column in mikro.columns:\n",
    "        mikro[column] = mikro[column].str.lower()\n",
    "\n",
    "print(infek.head())\n",
    "print(f\"Infektivno dataTypes: {infek.dtypes}\")\n",
    "print(f\"Epidemiologija dataTypes: {epidem.dtypes}\")\n",
    "print(f\"Imuno dataTypes: {imun.dtypes}\")\n",
    "print(f\"Mikro dataTypes: {mikro.dtypes}\")"
   ]
  },
  {
   "cell_type": "code",
   "execution_count": 86,
   "metadata": {},
   "outputs": [
    {
     "name": "stdout",
     "output_type": "stream",
     "text": [
      "Ovde vise autora:                        Author                                            Authors                                              Title    Year                                  Source title                Issue  Cited by     Document Type                                         AllAuthors\n",
      "0    jasmina simonovic-babic  chkhartishvili n., holban t., babić j.s., alex...  state of viral hepatitis care in 16 countries ...  2019.0     central european journal of public health                    3       NaN           Article  [chkhartishvili n.,  holban t.,  babić j.s.,  ...\n",
      "1    jasmina simonovic-babic  jordovic j., simonovic-babic j., gasic v., kot...  il-28b genotypes as predictors of long-term ou...  2019.0  journal of infection in developing countries                    6       1.0           Article  [jordovic j.,  simonovic-babic j.,  gasic v., ...\n",
      "2    jasmina simonovic-babic  jordovic j., bojovic k., simonovic-babic j., g...  significance of ugt1a1∗28 genotype in patients...  2019.0               journal of medical biochemistry                    1       2.0           Article  [jordovic j.,  bojovic k.,  simonovic-babic j....\n",
      "3    jasmina simonovic-babic  kowalska j.d., bursa d., gökengin d., jilich d...  hiv health care providers are ready to introdu...  2018.0                                  hiv medicine                    9       2.0           Article  [kowalska j.d.,  bursa d.,  gökengin d.,  jili...\n",
      "4    jasmina simonovic-babic  jordovic j., bojovic k., simonovic-babic j., g...  significance of ugt1a1∗28 genotype in patients...  2018.0               journal of medical biochemistry                  NaN       NaN  Article in Press  [jordovic j.,  bojovic k.,  simonovic-babic j....\n",
      "..                       ...                                                ...                                                ...     ...                                           ...                  ...       ...               ...                                                ...\n",
      "268          jelena jordovic  urošević a., dulović o., milošević b., maksić ...  the importance of haematological and biochemic...  2016.0               journal of medical biochemistry                    4       1.0           Article  [urošević a.,  dulović o.,  milošević b.,  mak...\n",
      "269          jelena jordovic  poluga j., milošević i., jordović j., dakić z....  clinical characteristics of imported malaria: ...  2016.0  journal of infection in developing countries                    7       2.0           Article  [poluga j.,  milošević i.,  jordović j.,  daki...\n",
      "270            jovan malinic  korać m., rupnik m., nikolić n., jovanović m.,...  clostridioides difficile ribotype distribution...  2020.0                                 gut pathogens                    1       NaN           Article  [korać m.,  rupnik m.,  nikolić n.,  jovanović...\n",
      "271            jovan malinic  karić u., katanić n., peruničić s., mitrović n...  herpes zoster – is there a need for new treatm...  2019.0                       vojnosanitetski pregled                   11       NaN           Article  [karić u.,  katanić n.,  peruničić s.,  mitrov...\n",
      "272            jovan malinic  simonović babić j., bojović k., delić d., kata...  antiviral treatment of hepatitis c in serbian ...  2016.0                            medicinski pregled  2020-03-04 00:00:00       2.0           Article  [simonović babić j.,  bojović k.,  delić d.,  ...\n",
      "\n",
      "[266 rows x 9 columns]\n"
     ]
    },
    {
     "name": "stdout",
     "output_type": "stream",
     "text": [
      "Radovi po autoru pridruzeni Author\n",
      "aleksandra radovanovic-spurnic     4\n",
      "branko milosevic                  30\n",
      "goran stevanovic                  38\n",
      "ivana milosevic                   30\n",
      "jasmina poluga                    17\n",
      "jasmina simonovic-babic           17\n",
      "jelena jordovic                    7\n",
      "jovan malinic                      3\n",
      "jovan ranin                       42\n",
      "ksenija bojovic                   21\n",
      "milos korac                       25\n",
      "natasa nikolic                    11\n",
      "nikola mitrovic                   21\n",
      "dtype: int64\n",
      "Tip?                       Author                                            Authors                                              Title    Year                                  Source title                Issue  Cited by     Document Type                                         AllAuthors\n",
      "0    jasmina simonovic-babic  chkhartishvili n., holban t., babić j.s., alex...  state of viral hepatitis care in 16 countries ...  2019.0     central european journal of public health                    3       NaN           Article  [chkhartishvili n.,  holban t.,  babić j.s.,  ...\n",
      "1    jasmina simonovic-babic  jordovic j., simonovic-babic j., gasic v., kot...  il-28b genotypes as predictors of long-term ou...  2019.0  journal of infection in developing countries                    6       1.0           Article  [jordovic j.,  simonovic-babic j.,  gasic v., ...\n",
      "2    jasmina simonovic-babic  jordovic j., bojovic k., simonovic-babic j., g...  significance of ugt1a1∗28 genotype in patients...  2019.0               journal of medical biochemistry                    1       2.0           Article  [jordovic j.,  bojovic k.,  simonovic-babic j....\n",
      "3    jasmina simonovic-babic  kowalska j.d., bursa d., gökengin d., jilich d...  hiv health care providers are ready to introdu...  2018.0                                  hiv medicine                    9       2.0           Article  [kowalska j.d.,  bursa d.,  gökengin d.,  jili...\n",
      "4    jasmina simonovic-babic  jordovic j., bojovic k., simonovic-babic j., g...  significance of ugt1a1∗28 genotype in patients...  2018.0               journal of medical biochemistry                  NaN       NaN  Article in Press  [jordovic j.,  bojovic k.,  simonovic-babic j....\n",
      "..                       ...                                                ...                                                ...     ...                                           ...                  ...       ...               ...                                                ...\n",
      "268          jelena jordovic  urošević a., dulović o., milošević b., maksić ...  the importance of haematological and biochemic...  2016.0               journal of medical biochemistry                    4       1.0           Article  [urošević a.,  dulović o.,  milošević b.,  mak...\n",
      "269          jelena jordovic  poluga j., milošević i., jordović j., dakić z....  clinical characteristics of imported malaria: ...  2016.0  journal of infection in developing countries                    7       2.0           Article  [poluga j.,  milošević i.,  jordović j.,  daki...\n",
      "270            jovan malinic  korać m., rupnik m., nikolić n., jovanović m.,...  clostridioides difficile ribotype distribution...  2020.0                                 gut pathogens                    1       NaN           Article  [korać m.,  rupnik m.,  nikolić n.,  jovanović...\n",
      "271            jovan malinic  karić u., katanić n., peruničić s., mitrović n...  herpes zoster – is there a need for new treatm...  2019.0                       vojnosanitetski pregled                   11       NaN           Article  [karić u.,  katanić n.,  peruničić s.,  mitrov...\n",
      "272            jovan malinic  simonović babić j., bojović k., delić d., kata...  antiviral treatment of hepatitis c in serbian ...  2016.0                            medicinski pregled  2020-03-04 00:00:00       2.0           Article  [simonović babić j.,  bojović k.,  delić d.,  ...\n",
      "\n",
      "[266 rows x 9 columns] \n"
     ]
    }
   ],
   "source": [
    "#u autori mi pise autor rada kome je pridruzen sa faksa\n",
    "infektivno_authors = infek.assign(AllAuthors=infek['Authors'].str.split(',')).explode('Authors')\n",
    "print('Ovde vise autora: ', infektivno_authors)\n",
    "author_counts_whole = infektivno_authors['AllAuthors'].value_counts()\n",
    "\n",
    "radovi_po_autoru_pridruzeni = infek.groupby('Author').size()\n",
    "print(f'Radovi po autoru pridruzeni {radovi_po_autoru_pridruzeni}')\n",
    "print(f'Tip? {infektivno_authors} ')"
   ]
  },
  {
   "cell_type": "code",
   "execution_count": 87,
   "metadata": {},
   "outputs": [
    {
     "name": "stdout",
     "output_type": "stream",
     "text": [
      "                    Author                                            Authors                                              Title    Year                                  Source title Issue  Cited by     Document Type             Katedra\n",
      "0  jasmina simonovic-babic  chkhartishvili n., holban t., babić j.s., alex...  state of viral hepatitis care in 16 countries ...  2019.0     central european journal of public health     3       NaN           Article  infektivne bolesti\n",
      "1  jasmina simonovic-babic  jordovic j., simonovic-babic j., gasic v., kot...  il-28b genotypes as predictors of long-term ou...  2019.0  journal of infection in developing countries     6       1.0           Article  infektivne bolesti\n",
      "2  jasmina simonovic-babic  jordovic j., bojovic k., simonovic-babic j., g...  significance of ugt1a1∗28 genotype in patients...  2019.0               journal of medical biochemistry     1       2.0           Article  infektivne bolesti\n",
      "3  jasmina simonovic-babic  kowalska j.d., bursa d., gökengin d., jilich d...  hiv health care providers are ready to introdu...  2018.0                                  hiv medicine     9       2.0           Article  infektivne bolesti\n",
      "4  jasmina simonovic-babic  jordovic j., bojovic k., simonovic-babic j., g...  significance of ugt1a1∗28 genotype in patients...  2018.0               journal of medical biochemistry   NaN       NaN  Article in Press  infektivne bolesti\n"
     ]
    }
   ],
   "source": [
    "infek['Katedra'] = 'infektivne bolesti'\n",
    "epidem['Katedra'] = 'katedra za epidemiologiju'\n",
    "imun['Katedra']='katedra za imunologiju'\n",
    "mikro['Katedra']='katedra za mikrobiologiju'\n",
    "\n",
    "data = pd.concat([infek, epidem,imun,mikro], ignore_index=True)\n",
    "print(data.head())"
   ]
  },
  {
   "cell_type": "markdown",
   "metadata": {},
   "source": [
    "Provera da li ima neki autor koji nije u velikom autori fajlu"
   ]
  },
  {
   "cell_type": "code",
   "execution_count": 89,
   "metadata": {},
   "outputs": [],
   "source": [
    "for author in radovi_po_autoru_broj.index:\n",
    "    if not autori['Puno ime'].eq(author).any():\n",
    "        print(f\"U pocetnom fajlu nema autora: {author}\")"
   ]
  },
  {
   "cell_type": "code",
   "execution_count": 90,
   "metadata": {},
   "outputs": [
    {
     "name": "stdout",
     "output_type": "stream",
     "text": [
      "                           Author                                            Authors                                              Title    Year                             Source title  Issue  Cited by     Document Type                    Katedra\n",
      "2         jasmina simonovic-babic  jordovic j., bojovic k., simonovic-babic j., g...  significance of ugt1a1∗28 genotype in patients...  2019.0          journal of medical biochemistry      1       2.0           Article         infektivne bolesti\n",
      "4         jasmina simonovic-babic  jordovic j., bojovic k., simonovic-babic j., g...  significance of ugt1a1∗28 genotype in patients...  2018.0          journal of medical biochemistry    NaN       NaN  Article in Press         infektivne bolesti\n",
      "174               ksenija bojovic  jordovic j., bojovic k., simonovic-babic j., g...  significance of ugt1a1∗28 genotype in patients...  2019.0          journal of medical biochemistry      1       2.0           Article         infektivne bolesti\n",
      "177               ksenija bojovic  jordovic j., bojovic k., simonovic-babic j., g...  significance of ugt1a1∗28 genotype in patients...  2018.0          journal of medical biochemistry    NaN       NaN  Article in Press         infektivne bolesti\n",
      "228               nikola mitrovic  jordovic j., bojovic k., simonovic-babic j., g...  significance of ugt1a1∗28 genotype in patients...  2019.0          journal of medical biochemistry      1       2.0           Article         infektivne bolesti\n",
      "230               nikola mitrovic  jordovic j., bojovic k., simonovic-babic j., g...  significance of ugt1a1∗28 genotype in patients...  2018.0          journal of medical biochemistry    NaN       NaN  Article in Press         infektivne bolesti\n",
      "250                natasa nikolic  jordovic j., bojovic k., simonovic-babic j., g...  significance of ugt1a1∗28 genotype in patients...  2019.0          journal of medical biochemistry      1       2.0           Article         infektivne bolesti\n",
      "252                natasa nikolic  jordovic j., bojovic k., simonovic-babic j., g...  significance of ugt1a1∗28 genotype in patients...  2018.0          journal of medical biochemistry    NaN       NaN  Article in Press         infektivne bolesti\n",
      "258               jelena jordovic  jordovic j., bojovic k., simonovic-babic j., g...  significance of ugt1a1∗28 genotype in patients...  2019.0          journal of medical biochemistry      1       2.0           Article         infektivne bolesti\n",
      "259               jelena jordovic  jordovic j., bojovic k., simonovic-babic j., g...  significance of ugt1a1∗28 genotype in patients...  2018.0          journal of medical biochemistry    NaN       NaN  Article in Press         infektivne bolesti\n",
      "491            tatjana pekmezovic  novaković i., maksimović n., pavlović a., žark...      introduction to molecular genetic diagnostics  2014.0          journal of medical biochemistry      1       2.0           Article  katedra za epidemiologiju\n",
      "493            tatjana pekmezovic  novaković i., maksimović n., pavlović a., zark...      introduction to molecular genetic diagnostics  2014.0          journal of medical biochemistry      1      10.0            Review  katedra za epidemiologiju\n",
      "988                  vera pravica  warlé m.c., farhan a., metselaar h.j., hop w.c...  cytokine gene polymorphisms and acute human li...  2002.0                    liver transplantation      7      47.0           Article     katedra za imunologiju\n",
      "990                  vera pravica  warlé m.c., farhan a., metselaar h.j., hop w.c...  cytokine gene polymorphisms and acute human li...  2001.0       european journal of immunogenetics      2       NaN           Article     katedra za imunologiju\n",
      "1348               sanja mitrovic  dubljanin e., džamic, mitrovic s., arsenijevic...  onychomycosis: clinical findings, etiological ...  2014.0          archives of biological sciences      2       1.0           Article  katedra za mikrobiologiju\n",
      "1349               sanja mitrovic  dubljanin e., džamić a.m., mitrović s., arseni...  onychomycosis: clinical findings, etiological ...  2014.0          archives of biological sciences      2       NaN           Article  katedra za mikrobiologiju\n",
      "1415  valentina arsic-arsenijevic  kassebaum n.j., barber r.m., dandona l., hay s...  global, regional, and national levels of mater...  2017.0     obstetrical and gynecological survey      1       NaN              Note  katedra za mikrobiologiju\n",
      "1417  valentina arsic-arsenijevic  kassebaum n.j., barber r.m., dandona l., hay s...  global, regional, and national levels of mater...  2016.0                               the lancet  10053     279.0           Article  katedra za mikrobiologiju\n",
      "1524            aleksandar dzamic  dubljanin e., džamic, mitrovic s., arsenijevic...  onychomycosis: clinical findings, etiological ...  2014.0          archives of biological sciences      2       1.0           Article  katedra za mikrobiologiju\n",
      "1525            aleksandar dzamic  dubljanin e., džamić a.m., mitrović s., arseni...  onychomycosis: clinical findings, etiological ...  2014.0          archives of biological sciences      2       NaN           Article  katedra za mikrobiologiju\n",
      "1865           eleonora dubljanin  driscoll t., rushton l., hutchings s.j., strai...  global and regional burden of disease and inju...  2020.0  occupational and environmental medicine      3       4.0            Review  katedra za mikrobiologiju\n",
      "1866           eleonora dubljanin  driscoll t., rushton l., hutchings s.j., strai...  global and regional burden of disease and inju...  2020.0  occupational and environmental medicine      3       4.0            Review  katedra za mikrobiologiju\n",
      "1896           eleonora dubljanin  dubljanin e., džamic, mitrovic s., arsenijevic...  onychomycosis: clinical findings, etiological ...  2014.0          archives of biological sciences      2       1.0           Article  katedra za mikrobiologiju\n",
      "1897           eleonora dubljanin  dubljanin e., džamić a.m., mitrović s., arseni...  onychomycosis: clinical findings, etiological ...  2014.0          archives of biological sciences      2       NaN           Article  katedra za mikrobiologiju\n"
     ]
    }
   ],
   "source": [
    "duplicates = data[data.duplicated(subset=['Title', 'Author'], keep=False)]\n",
    "print(duplicates)"
   ]
  },
  {
   "cell_type": "code",
   "execution_count": 91,
   "metadata": {},
   "outputs": [],
   "source": [
    "def unique_values(series):\n",
    "    return series.unique().tolist()\n",
    "\n",
    "grouped = duplicates.groupby(['Title', 'Author']).agg(unique_values).reset_index()\n",
    "\n",
    "# Check for differences by evaluating the number of unique values\n",
    "def check_differences(row):\n",
    "    differences = {}\n",
    "    for col in row.index[2:]:  # Skip 'Title' and 'Author' columns\n",
    "        if len(row[col]) > 1:\n",
    "            differences[col] = row[col]\n",
    "    return differences\n",
    "\n",
    "grouped['Differences'] = grouped.apply(check_differences, axis=1)\n",
    "# Filter out rows with no differences\n",
    "difference_summary = grouped[grouped['Differences'].map(bool)]\n",
    "text_output = \"Title, Author, Differences\\n\"\n",
    "for index, row in difference_summary.iterrows():\n",
    "    text_output += f\"{row['Title']}, {row['Author']}, {row['Differences']}\\n\"\n",
    "with open('./calculation/radovi_po_autoru.txt','w') as file:\n",
    "    file.write(text_output)\n",
    "   "
   ]
  },
  {
   "cell_type": "code",
   "execution_count": 44,
   "metadata": {},
   "outputs": [
    {
     "name": "stdout",
     "output_type": "stream",
     "text": [
      "na_indeces:  Int64Index([4, 177, 230, 252, 259, 990, 1349, 1415, 1525, 1897], dtype='int64')\n",
      "                           Author                                            Authors                                              Title    Year                          Source title Issue  Cited by     Document Type                    Katedra  Author count\n",
      "4         jasmina simonovic-babic  jordovic j., bojovic k., simonovic-babic j., g...  significance of ugt1a1∗28 genotype in patients...  2018.0       journal of medical biochemistry   NaN       NaN  Article in Press         infektivne bolesti            11\n",
      "177               ksenija bojovic  jordovic j., bojovic k., simonovic-babic j., g...  significance of ugt1a1∗28 genotype in patients...  2018.0       journal of medical biochemistry   NaN       NaN  Article in Press         infektivne bolesti            11\n",
      "230               nikola mitrovic  jordovic j., bojovic k., simonovic-babic j., g...  significance of ugt1a1∗28 genotype in patients...  2018.0       journal of medical biochemistry   NaN       NaN  Article in Press         infektivne bolesti            11\n",
      "252                natasa nikolic  jordovic j., bojovic k., simonovic-babic j., g...  significance of ugt1a1∗28 genotype in patients...  2018.0       journal of medical biochemistry   NaN       NaN  Article in Press         infektivne bolesti            11\n",
      "259               jelena jordovic  jordovic j., bojovic k., simonovic-babic j., g...  significance of ugt1a1∗28 genotype in patients...  2018.0       journal of medical biochemistry   NaN       NaN  Article in Press         infektivne bolesti            11\n",
      "990                  vera pravica  warlé m.c., farhan a., metselaar h.j., hop w.c...  cytokine gene polymorphisms and acute human li...  2001.0    european journal of immunogenetics     2       NaN           Article     katedra za imunologiju             2\n",
      "1349               sanja mitrovic  dubljanin e., džamić a.m., mitrović s., arseni...  onychomycosis: clinical findings, etiological ...  2014.0       archives of biological sciences     2       NaN           Article  katedra za mikrobiologiju             6\n",
      "1415  valentina arsic-arsenijevic  kassebaum n.j., barber r.m., dandona l., hay s...  global, regional, and national levels of mater...  2017.0  obstetrical and gynecological survey     1       NaN              Note  katedra za mikrobiologiju             2\n",
      "1525            aleksandar dzamic  dubljanin e., džamić a.m., mitrović s., arseni...  onychomycosis: clinical findings, etiological ...  2014.0       archives of biological sciences     2       NaN           Article  katedra za mikrobiologiju             6\n",
      "1897           eleonora dubljanin  dubljanin e., džamić a.m., mitrović s., arseni...  onychomycosis: clinical findings, etiological ...  2014.0       archives of biological sciences     2       NaN           Article  katedra za mikrobiologiju             6\n"
     ]
    }
   ],
   "source": [
    "duplicate_indices = duplicates.index\n",
    "na_indices = data.loc[duplicate_indices, 'Cited by'].isna()\n",
    "na_indices = na_indices[na_indices].index\n",
    "print('na_indeces: ', na_indices)\n",
    "print(data.loc[na_indices])"
   ]
  },
  {
   "cell_type": "code",
   "execution_count": 92,
   "metadata": {},
   "outputs": [],
   "source": [
    "data.drop(index=na_indices, inplace=True)"
   ]
  },
  {
   "cell_type": "code",
   "execution_count": 93,
   "metadata": {},
   "outputs": [
    {
     "name": "stdout",
     "output_type": "stream",
     "text": [
      "                  Author                                            Authors                                              Title    Year                             Source title Issue  Cited by Document Type                    Katedra\n",
      "491   tatjana pekmezovic  novaković i., maksimović n., pavlović a., žark...      introduction to molecular genetic diagnostics  2014.0          journal of medical biochemistry     1       2.0       Article  katedra za epidemiologiju\n",
      "493   tatjana pekmezovic  novaković i., maksimović n., pavlović a., zark...      introduction to molecular genetic diagnostics  2014.0          journal of medical biochemistry     1      10.0        Review  katedra za epidemiologiju\n",
      "1865  eleonora dubljanin  driscoll t., rushton l., hutchings s.j., strai...  global and regional burden of disease and inju...  2020.0  occupational and environmental medicine     3       4.0        Review  katedra za mikrobiologiju\n",
      "1866  eleonora dubljanin  driscoll t., rushton l., hutchings s.j., strai...  global and regional burden of disease and inju...  2020.0  occupational and environmental medicine     3       4.0        Review  katedra za mikrobiologiju\n"
     ]
    }
   ],
   "source": [
    "duplicates = data[data.duplicated(subset=['Title', 'Author'], keep=False)]\n",
    "print(duplicates)"
   ]
  },
  {
   "cell_type": "markdown",
   "metadata": {},
   "source": [
    "Za druga dva rada isto pise tako da sam na random izbacila, a za prva dva prvi link postoji idalje drugi ne pa izbacujem drugi"
   ]
  },
  {
   "cell_type": "code",
   "execution_count": 94,
   "metadata": {},
   "outputs": [],
   "source": [
    "data.drop(index=[1865,493], inplace=True)"
   ]
  },
  {
   "cell_type": "code",
   "execution_count": 95,
   "metadata": {},
   "outputs": [
    {
     "name": "stdout",
     "output_type": "stream",
     "text": [
      "Empty DataFrame\n",
      "Columns: [Author, Authors, Title, Year, Source title, Issue, Cited by, Document Type, Katedra]\n",
      "Index: []\n"
     ]
    }
   ],
   "source": [
    "duplicates = data[data.duplicated(subset=['Title', 'Author'], keep=False)]\n",
    "print(duplicates)"
   ]
  },
  {
   "cell_type": "code",
   "execution_count": 99,
   "metadata": {},
   "outputs": [
    {
     "name": "stdout",
     "output_type": "stream",
     "text": [
      "Grupisani radovi po autoru: 8\n"
     ]
    }
   ],
   "source": [
    "grupisani_radovi_po_autoru = data.groupby('Title').size()\n",
    "print(f'Grupisani radovi po autoru: {grupisani_radovi_po_autoru.max()}')"
   ]
  },
  {
   "cell_type": "code",
   "execution_count": 100,
   "metadata": {},
   "outputs": [
    {
     "name": "stdout",
     "output_type": "stream",
     "text": [
      "                    Author                                            Authors                                              Title    Year                                  Source title Issue  Cited by Document Type             Katedra  Author count\n",
      "0  jasmina simonovic-babic  chkhartishvili n., holban t., babić j.s., alex...  state of viral hepatitis care in 16 countries ...  2019.0     central european journal of public health     3       NaN       Article  infektivne bolesti             1\n",
      "1  jasmina simonovic-babic  jordovic j., simonovic-babic j., gasic v., kot...  il-28b genotypes as predictors of long-term ou...  2019.0  journal of infection in developing countries     6       1.0       Article  infektivne bolesti             5\n",
      "2  jasmina simonovic-babic  jordovic j., bojovic k., simonovic-babic j., g...  significance of ugt1a1∗28 genotype in patients...  2019.0               journal of medical biochemistry     1       2.0       Article  infektivne bolesti             6\n",
      "3  jasmina simonovic-babic  kowalska j.d., bursa d., gökengin d., jilich d...  hiv health care providers are ready to introdu...  2018.0                                  hiv medicine     9       2.0       Article  infektivne bolesti             1\n",
      "5  jasmina simonovic-babic  mitrovic n., delic d., markovic denic l., niko...  the prevalence and the risk factors for hepati...  2018.0  journal of infection in developing countries     3       1.0       Article  infektivne bolesti             6\n"
     ]
    }
   ],
   "source": [
    "data['Author count'] = data.groupby('Title')['Author'].transform('count')\n",
    "print(data.head())"
   ]
  },
  {
   "cell_type": "code",
   "execution_count": 105,
   "metadata": {},
   "outputs": [
    {
     "name": "stdout",
     "output_type": "stream",
     "text": [
      "Radovi po autoru pridruzeni Author                          Katedra                  \n",
      "tatjana pekmezovic              katedra za epidemiologiju    262\n",
      "vladimir trajkovic              katedra za imunologiju       155\n",
      "vera pravica                    katedra za imunologiju        87\n",
      "ljiljana markovic-denic         katedra za epidemiologiju     84\n",
      "tatjana gazibara                katedra za epidemiologiju     77\n",
      "maja stanojevic                 katedra za mikrobiologiju     70\n",
      "darija kisic-tepavcevic         katedra za epidemiologiju     62\n",
      "valentina arsic-arsenijevic     katedra za mikrobiologiju     49\n",
      "ivana cirkovic                  katedra za mikrobiologiju     46\n",
      "dusan popadic                   katedra za imunologiju        46\n",
      "tanja jovanovic                 katedra za mikrobiologiju     44\n",
      "dragana vukovic                 katedra za mikrobiologiju     43\n",
      "jovan ranin                     infektivne bolesti            42\n",
      "ivana lazarevic                 katedra za mikrobiologiju     40\n",
      "lazar ranin                     katedra za mikrobiologiju     39\n",
      "sandra sipetic-grujicic         katedra za epidemiologiju     39\n",
      "goran stevanovic                infektivne bolesti            38\n",
      "slobodanka djukic               katedra za mikrobiologiju     37\n",
      "natasa maksimovic               katedra za epidemiologiju     37\n",
      "jadranka maksimovic             katedra za epidemiologiju     36\n",
      "eleonora dubljanin              katedra za mikrobiologiju     35\n",
      "maja cupic                      katedra za mikrobiologiju     31\n",
      "ivana milosevic                 infektivne bolesti            30\n",
      "branko milosevic                infektivne bolesti            30\n",
      "aleksandra knezevic             katedra za mikrobiologiju     28\n",
      "branislava savic                katedra za mikrobiologiju     27\n",
      "isidora vujcic                  katedra za epidemiologiju     27\n",
      "gorica maric                    katedra za epidemiologiju     26\n",
      "milos markovic                  katedra za imunologiju        26\n",
      "ivana dakic                     katedra za mikrobiologiju     25\n",
      "milos korac                     infektivne bolesti            25\n",
      "vera mijac                      katedra za mikrobiologiju     25\n",
      "ksenija bojovic                 infektivne bolesti            20\n",
      "nikola mitrovic                 infektivne bolesti            20\n",
      "aleksandar dzamic               katedra za mikrobiologiju     20\n",
      "ana banko                       katedra za mikrobiologiju     18\n",
      "jasmina poluga                  infektivne bolesti            17\n",
      "jasmina simonovic-babic         infektivne bolesti            16\n",
      "ina gajic                       katedra za mikrobiologiju     15\n",
      "sanja mitrovic                  katedra za mikrobiologiju     15\n",
      "emina milosevic                 katedra za imunologiju        14\n",
      "vladimir perovic                katedra za imunologiju        12\n",
      "dusan kekic                     katedra za mikrobiologiju     12\n",
      "irena arandjelovic              katedra za mikrobiologiju     10\n",
      "natasa nikolic                  infektivne bolesti            10\n",
      "vuk marusic                     katedra za epidemiologiju      8\n",
      "vladimir nikolic                katedra za epidemiologiju      6\n",
      "jelena jordovic                 infektivne bolesti             6\n",
      "aleksandra radovanovic-spurnic  infektivne bolesti             4\n",
      "jovan malinic                   infektivne bolesti             3\n",
      "irena vukovic-petrovic          katedra za imunologiju         3\n",
      "natasa vuckovic-opavski         katedra za mikrobiologiju      2\n",
      "ivana colovic-colovski          katedra za mikrobiologiju      2\n",
      "Name: Title, dtype: int64\n"
     ]
    }
   ],
   "source": [
    "radovi_po_autoru_broj = data.groupby(['Author','Katedra'])['Title'].size().sort_values(ascending=False)\n",
    "print(f'Radovi po autoru pridruzeni {radovi_po_autoru_broj}')"
   ]
  },
  {
   "cell_type": "code",
   "execution_count": 106,
   "metadata": {},
   "outputs": [
    {
     "name": "stdout",
     "output_type": "stream",
     "text": [
      "\n",
      "Fractional Count (Fraction of Papers per Author):\n",
      "Author                          Katedra                  \n",
      "tatjana pekmezovic              katedra za epidemiologiju    222.958333\n",
      "vladimir trajkovic              katedra za imunologiju       135.866667\n",
      "vera pravica                    katedra za imunologiju        76.583333\n",
      "ljiljana markovic-denic         katedra za epidemiologiju     73.083333\n",
      "maja stanojevic                 katedra za mikrobiologiju     52.983333\n",
      "tatjana gazibara                katedra za epidemiologiju     46.458333\n",
      "valentina arsic-arsenijevic     katedra za mikrobiologiju     40.500000\n",
      "jovan ranin                     infektivne bolesti            34.083333\n",
      "sandra sipetic-grujicic         katedra za epidemiologiju     33.916667\n",
      "ivana cirkovic                  katedra za mikrobiologiju     33.416667\n",
      "darija kisic-tepavcevic         katedra za epidemiologiju     29.041667\n",
      "natasa maksimovic               katedra za epidemiologiju     28.875000\n",
      "jadranka maksimovic             katedra za epidemiologiju     28.541667\n",
      "dusan popadic                   katedra za imunologiju        26.566667\n",
      "eleonora dubljanin              katedra za mikrobiologiju     23.000000\n",
      "slobodanka djukic               katedra za mikrobiologiju     22.583333\n",
      "dragana vukovic                 katedra za mikrobiologiju     21.866667\n",
      "goran stevanovic                infektivne bolesti            21.500000\n",
      "tanja jovanovic                 katedra za mikrobiologiju     20.916667\n",
      "lazar ranin                     katedra za mikrobiologiju     19.100000\n",
      "branislava savic                katedra za mikrobiologiju     17.500000\n",
      "ivana lazarevic                 katedra za mikrobiologiju     15.766667\n",
      "aleksandra knezevic             katedra za mikrobiologiju     15.333333\n",
      "isidora vujcic                  katedra za epidemiologiju     15.291667\n",
      "branko milosevic                infektivne bolesti            15.183333\n",
      "milos markovic                  katedra za imunologiju        13.016667\n",
      "ivana milosevic                 infektivne bolesti            12.683333\n",
      "milos korac                     infektivne bolesti            11.616667\n",
      "ivana dakic                     katedra za mikrobiologiju     11.500000\n",
      "gorica maric                    katedra za epidemiologiju     11.291667\n",
      "maja cupic                      katedra za mikrobiologiju     10.200000\n",
      "jasmina simonovic-babic         infektivne bolesti             9.866667\n",
      "ksenija bojovic                 infektivne bolesti             9.650000\n",
      "vera mijac                      katedra za mikrobiologiju      9.433333\n",
      "nikola mitrovic                 infektivne bolesti             9.066667\n",
      "aleksandar dzamic               katedra za mikrobiologiju      8.916667\n",
      "dusan kekic                     katedra za mikrobiologiju      8.283333\n",
      "jasmina poluga                  infektivne bolesti             8.100000\n",
      "ana banko                       katedra za mikrobiologiju      7.333333\n",
      "vladimir perovic                katedra za imunologiju         7.200000\n",
      "sanja mitrovic                  katedra za mikrobiologiju      5.750000\n",
      "irena arandjelovic              katedra za mikrobiologiju      5.616667\n",
      "vladimir nikolic                katedra za epidemiologiju      5.500000\n",
      "ina gajic                       katedra za mikrobiologiju      5.433333\n",
      "emina milosevic                 katedra za imunologiju         4.816667\n",
      "vuk marusic                     katedra za epidemiologiju      3.291667\n",
      "natasa nikolic                  infektivne bolesti             2.483333\n",
      "aleksandra radovanovic-spurnic  infektivne bolesti             2.166667\n",
      "jelena jordovic                 infektivne bolesti             1.300000\n",
      "ivana colovic-colovski          katedra za mikrobiologiju      1.250000\n",
      "natasa vuckovic-opavski         katedra za mikrobiologiju      1.000000\n",
      "irena vukovic-petrovic          katedra za imunologiju         0.700000\n",
      "jovan malinic                   infektivne bolesti             0.616667\n",
      "Name: Fraction, dtype: float64\n"
     ]
    }
   ],
   "source": [
    "data['Fraction'] = 1 / data['Author count']\n",
    "fractional_counts = data.groupby(['Author','Katedra'])['Fraction'].sum().sort_values(ascending=False)\n",
    "\n",
    "print(\"\\nFractional Count (Fraction of Papers per Author):\")\n",
    "print(fractional_counts)"
   ]
  },
  {
   "cell_type": "code",
   "execution_count": 110,
   "metadata": {},
   "outputs": [
    {
     "name": "stdout",
     "output_type": "stream",
     "text": [
      "Prosek po autoru: Author                          Katedra                  \n",
      "eleonora dubljanin              katedra za mikrobiologiju    390.742857\n",
      "isidora vujcic                  katedra za epidemiologiju    343.814815\n",
      "valentina arsic-arsenijevic     katedra za mikrobiologiju     71.816327\n",
      "maja stanojevic                 katedra za mikrobiologiju     32.342857\n",
      "vladimir trajkovic              katedra za imunologiju        32.161290\n",
      "irena arandjelovic              katedra za mikrobiologiju     32.000000\n",
      "branislava savic                katedra za mikrobiologiju     18.740741\n",
      "jasmina simonovic-babic         infektivne bolesti            14.500000\n",
      "irena vukovic-petrovic          katedra za imunologiju        12.000000\n",
      "jelena jordovic                 infektivne bolesti            11.833333\n",
      "natasa nikolic                  infektivne bolesti            11.600000\n",
      "jovan malinic                   infektivne bolesti            10.000000\n",
      "ivana lazarevic                 katedra za mikrobiologiju      9.275000\n",
      "ivana milosevic                 infektivne bolesti             9.166667\n",
      "jasmina poluga                  infektivne bolesti             9.058824\n",
      "nikola mitrovic                 infektivne bolesti             8.950000\n",
      "milos korac                     infektivne bolesti             8.840000\n",
      "aleksandra radovanovic-spurnic  infektivne bolesti             8.750000\n",
      "vladimir perovic                katedra za imunologiju         8.750000\n",
      "goran stevanovic                infektivne bolesti             8.684211\n",
      "ksenija bojovic                 infektivne bolesti             8.600000\n",
      "emina milosevic                 katedra za imunologiju         8.500000\n",
      "vladimir nikolic                katedra za epidemiologiju      8.000000\n",
      "gorica maric                    katedra za epidemiologiju      7.884615\n",
      "milos markovic                  katedra za imunologiju         7.807692\n",
      "dusan popadic                   katedra za imunologiju         7.782609\n",
      "branko milosevic                infektivne bolesti             7.733333\n",
      "ina gajic                       katedra za mikrobiologiju      7.600000\n",
      "aleksandra knezevic             katedra za mikrobiologiju      7.535714\n",
      "dusan kekic                     katedra za mikrobiologiju      7.416667\n",
      "dragana vukovic                 katedra za mikrobiologiju      7.395349\n",
      "tatjana pekmezovic              katedra za epidemiologiju      7.381679\n",
      "ljiljana markovic-denic         katedra za epidemiologiju      7.321429\n",
      "ivana colovic-colovski          katedra za mikrobiologiju      7.000000\n",
      "darija kisic-tepavcevic         katedra za epidemiologiju      6.967742\n",
      "vera pravica                    katedra za imunologiju         6.908046\n",
      "ivana dakic                     katedra za mikrobiologiju      6.640000\n",
      "tatjana gazibara                katedra za epidemiologiju      6.636364\n",
      "ana banko                       katedra za mikrobiologiju      6.611111\n",
      "sandra sipetic-grujicic         katedra za epidemiologiju      6.589744\n",
      "tanja jovanovic                 katedra za mikrobiologiju      6.568182\n",
      "ivana cirkovic                  katedra za mikrobiologiju      6.565217\n",
      "jadranka maksimovic             katedra za epidemiologiju      6.527778\n",
      "jovan ranin                     infektivne bolesti             6.500000\n",
      "maja cupic                      katedra za mikrobiologiju      6.387097\n",
      "vuk marusic                     katedra za epidemiologiju      6.250000\n",
      "vera mijac                      katedra za mikrobiologiju      6.200000\n",
      "aleksandar dzamic               katedra za mikrobiologiju      6.050000\n",
      "natasa maksimovic               katedra za epidemiologiju      5.972973\n",
      "slobodanka djukic               katedra za mikrobiologiju      5.594595\n",
      "sanja mitrovic                  katedra za mikrobiologiju      5.533333\n",
      "lazar ranin                     katedra za mikrobiologiju      5.487179\n",
      "natasa vuckovic-opavski         katedra za mikrobiologiju      3.000000\n",
      "dtype: float64\n"
     ]
    }
   ],
   "source": [
    "data['CoauthorsCount'] = data['Authors'].apply(lambda x: len(x.split(',')))\n",
    "author_coauthors = data.groupby(['Author','Katedra'])['CoauthorsCount'].sum()\n",
    "author_publications = data.groupby('Author').size()\n",
    "average_coauthors_per_author = author_coauthors / author_publications\n",
    "print(f'Prosek po autoru: {average_coauthors_per_author.sort_values(ascending=False)}')\n"
   ]
  },
  {
   "cell_type": "markdown",
   "metadata": {},
   "source": [
    "Provera da li imam ne konzisentne Cited by vrednosti"
   ]
  },
  {
   "cell_type": "code",
   "execution_count": 112,
   "metadata": {},
   "outputs": [
    {
     "name": "stdout",
     "output_type": "stream",
     "text": [
      "Inconsistent Papers:\n",
      "['[karakteristike pacijenata sa implantiranom totalnom protezom zgloba kuka i kolena].', '[the efficacy of lamivudine in the treatment of reactivation of chronic hepatitis b virus infection in patients on immunosuppressive therapy].', 'a case report of listeria monocytogenes meningoencephalitis in general hospital \"dr radivoj simonovir\" sombor', 'a murine model for study of anticryptococcal activity mediated by cytotoxic immune cells - role in immunization and human vaccine strategies', 'a pilot study in serbia by european clostridium difficile infection surveillance network', 'actinomycotic hepatic abscess in woman with longstanding intrauterine contraceptive device', 'acute meningoencephalitis in a patient with systemic lupus erythematosus [akutni meningoencefalitis kod bolesnice sa sistemskim eritemskim lupusom]', 'adolescents’ self perceived acne-related beliefs: from myth to science', \"aids-related extranodal non-hodgkin's lymphomas\", 'altered cytokine expression in helicobacter pylori infected patients with bleeding duodenal ulcer', 'an exceptional case report of disseminated cryptococcosis in a hitherto immunocompetent patient', 'analysis of the variability of epstein-barr virus genes in infectious mononucleosis: investigation of the potential correlation with biochemical parameters of hepatic involvement', 'anorectal melanoma and seborrheic dermatitis – a case report', 'antibiofilm effects of amoxicillin–clavulanic acid and levofloxacin in patients with chronic rhinosinusitis with nasal polyposis', 'antibodies in sera from multiple sclerosis patients recognize trichinella spiralis muscle larvae excretory–secretory antigens', 'antimicrobial susceptibility and molecular characterization of carbapenemase-producing enterobacter spp. community isolates in belgrade, serbia', 'antiretroviral therapy of acquired immunodeficiency syndrome (aids) [antiretrovirusna terapija sindroma stecene imunodeficijencije (aids-om).]', 'anxiety and depression in patients with vocal fold nodules, edema and polyps', 'assessment of health-related quality of life among parents of children with solid tumors in serbia', 'assessment of nursing care-associated predictors of in-hospital mortality in the patients with acute ischemic stroke [određivanje prediktora intrahospitalnog mortaliteta povezanih sa negom pruženom od strane medicinskog tehničara kod bolesnika sa akutnim ishemijskim moždanim udarom]', 'associations of vitamin d levels and asthma in children', 'attitudes of nurses toward organ donation in serbia', 'attitudes of the final year medical students towards emigration [stavovi o emigraciji studenata završne godine medicine]', 'awareness and knowledge about hpv infection and hpv vaccination among women undergoing cytology and colposcopy in serbian cervical cancer counseling center', 'bacterial bloodstream infections in level-i trauma intensive care unit in serbia: incidence, causative agents and outcomes', 'barriers to confidentiality protection in adolescent healthcare: a survey of serbia primary healthcare paediatricians and gynaecologists', 'bladder cancer mortality in the beograd region', 'botulinum toxin efficacy in the treatment of patients with spasmodic dysphonia', 'bridging the gap with clinicians: the issue of underrecognition of pathologists and radiologists as scientific authors in contemporary medical literature', 'bullying victimization in primary school: a cross-sectional study in one municipality in belgrade', 'candidate gene analysis in diabetic retinopathy: igf-i gene', 'candidate gene analysis in t1dm: ifn-γ gene', 'carboplatin and radical radiotherapy in the treatment of locally advanced urinary bladder cancer [carboplatin i radikalna radioterapija u lecenju lokalno uznapredovalog karcinoma mokracne besike]', 'cardiac function is not associated with glucose control in older women', 'changes in sensitivity to penicillin and an increase in virulence in beta-hemolytic streptococci followed by changes in the clinical picture of streptococcal syndrome [promena osetljivosti na penicilin i povećanje virulencije beta-hemolitickih streptokoka praćeno izmenjenom klinickom slikom streptokoknog sindroma.]', 'characteristics of acute hepatitis c', 'characteristics of norovirus infection in serbia [karakteristike norovirusne infekcije u srbiji]', 'characterization of macrolide-resistant non-invasive pneumococci in the pre-vaccine era in serbia', 'childhood tuberculosis in serbia', 'chlamydia trachomatis infection in newborn infants [infekcija novoredjenceta uzrocnikom chlamydia trachomatis.]', 'clinical characteristics of multiple system atrophy in serbian population', 'clostridioides difficile ribotype distribution in a large teaching hospital in serbia', 'combined radio-chemotherapy in solid tumour treatment of advanced bladder cancer (preliminary report) [kombinovana radioterapija i hemoterapija kod bolesnika sa solidnim tumorima (prethodni izvestaj o lecenju napredovalih carcinoma mokraćne besike).]', 'comparison of lung diffusing capacity in young elite athletes and their counterparts', 'correlation between clinical symptoms and diagnosis of trichomoniasis in women.', 'current knowledge of mycoplasmas [savremena znanja o mikoplazmama.]', 'cytokine gene polymorphism profiles in kidney transplant patients - association of +1188a/c rs3212227 snp in the il12b gene prevents delayed graft function', 'deepamr for predicting co-occurrent resistance of mycobacterium tuberculosis', 'depressive symptoms and cognitive dysfunctions in patients with chronic hepatitis b', 'determinants of smoking and smoking cessation among health professionals in serbia: a cross-sectional study [faktori pušenja i prestanka pušenja med{stroke}u zdravstvenim radnicima u srbiji: rezultati studije preseka]', 'differences in mrsa prevalence and resistance patterns in a tertiary center before and after joining an international program for surveillance of antimicrobial resistance', 'diseases of digestive system in patients with aids [oboljenja digestivnog sistema u bolesnika sa aids-om.]', 'does penis size influence sexual behaviour of men who have sex with men?', 'effect of pentoxifylline on interferon-γ-induced nitric oxide production in l929 fibroblasts', 'effects of sideritis scardica extract on glucose tolerance, triglyceride levels and markers of oxidative stress in ovariectomized rats', 'efficacy of botulinum toxin type a in treatment of different forms of focal dystonias in the serbian population: experience of the botulinum toxin outpatients department [efikasnost terapije botulinskim toksinom tipa a u lečenju različitih formi fokalnih distonija u srpskoj populaciji: iskustvo centra za botulinski toksin]', 'epidemiologic study of malignant brain tumors in children and adolescents [epidemioloske studije malignih tumora mozga kod dece i adolescenata.]', 'epidemiological and clinical data of outpatients with chronic viral hepatitis', 'epidemiological characteristics of cancer of the pancreas in serbia (without provinces) [epidemioloske odlike raka pankreasa u srbiji bez pokrajina.]', 'epidemiological characteristics of gastric cancer', 'epidemiology, diagnosis and management of sexual dysfunction in multiple sclerosis', 'eradication of helicobacter pylori in patients without gastric symptoms suffering from recurrent aphthous stomatitis: a pilot study [eradikacija helicobacter pylori kod bolesnika bez gastričkih simptoma koji imaju rekurentni aftozni stomatitis: pilot studija]', 'erythropoietin in predicting prognosis in patients with acute-on-chronic liver failure', 'erythropoietin in the evaluation of treatment outcomes in patients with polytrauma', 'esophagitis in patients with acquired immunodeficiency syndrome (aids). diagnosis and treatment', 'evaluation of the reliability of the 8-second skipping with hand clapping test in 5- and 6-year-old kindergarteners with the use of the test-retest method: methodological aspects and practical implications', 'evolution and population dynamics of clonal complex 152 community-associated methicillin-resistant staphylococcus aureus', 'factors associated with burnout syndrome in primary and secondary school teachers in the republic of srpska (bosnia and herzegovina)', 'fib-4 and apri scores for predicting severe fibrosis in chronic hepatitis c - a developing country’s perspective in daa era', 'flow cytometric assay of respiratory burst capacity in peripheral blood monocytes of gaucher type 1 patients', 'free living amoebae of the acanthamoeba genus--investigations made in recreation centres of the city of belgrade [ameba roda acanthamoeba u rekreacionim centrima grada beograda.]', 'genetic and epidemiologic aspects of brain tumors in children and adolescents [genetsko-epidemioloski aspekti tumora mozga kod dece i adolescenata.]', 'genomic epidemiology of carbapenem- and colistin-resistant klebsiella pneumoniae isolates from serbia: predominance of st101 strains carrying a novel oxa-48 plasmid', 'glaucoma symptom scale: psychometric properties of the serbian version', 'health care-associated infections: repeated prevalence surveys, 2003-2010', 'health-related quality of life in women with breast cancer in belgrade (serbia)', 'hepatitis b outbreak among men who have sex with men in the autonomous province of vojvodina, serbia', 'hepatitis e virus infection in yugoslavia: a report on three cases', 'herpes simplex virus resistance to acyclovir in routine virological laboratory practice', 'herpes zoster – is there a need for new treatment recommendations?', 'high frequency of human leukocyte antigen-b∗57:01 allele carriers among hiv-infected patients in serbia', 'high incidence of multiresistant bacterial isolates from bloodstream infections in trauma emergency department and intensive care unit in serbia', \"hodgkin's disease: a case-control study\", 'hormonal cytoreduction prior to radiotherapy in locally advanced prostatic adenocarcinoma', 'hormonal therapy in menopausal transition: implications for improvement of health-related quality of life', 'hospital infections in neonatal intensive care units', 'human papillomavirus vaccination and physical and mental health complaints among female students in secondary education institutions in denmark', 'il-6 in the cerebrospinal fluid signals disease activity in multiple sclerosis', 'in response: the challenges of blood pressure assessment in schoolchildren', 'in vitro test of antibacterial activity of ceftriaxone, ampicillin, erythromycin, gentamicin and tobramycin', 'increased systemic sst2 in patients with end stage renal disease contributes to milder liver damage during hcv infection', 'increased tumor necrosis factor alpha and interleukin-6 serum levels and their correlation with laboratory parameters in patients with imported malaria', 'inducible nitric oxide synthase inhibition by mycophenolic acid', 'influence of lifestyle habits and behaviours on quality of life during pregnancy', 'influence of subinhibitory antibiotic concentration on streptococcus pyogenes adherence and biofilm production', 'influenza a h1n1 virus infection among pregnant women in a tertiary hospital in belgrade, serbia', 'insight into diversity of bacteria belonging to the order rickettsiales in 9 arthropods species collected in serbia', 'intestinal parasitosis in asylum seekers from the middle east and south asia [parazitoze kod azilanata sa bliskog istoka i iz južne azije]', 'is penicillin still the drug of choice in the treatment of diseases caused by beta-hemolytic streptococci? [da li je penicilin jos lek izbora u lecenju oboljenja izazvanih beta-hemolytickim streptokokama?]', 'knowledge, attitudes and practices of serbian medical students regarding influenza vaccination', 'liver damages in patients infected with human immunodeficiency virus (hiv) [ostecenja jetre kod pacijenata inficiranih virusom humane imunodeficijencije (hiv-om)]', 'long-term outcome and prognosis in patients with neuromyelitis optica spectrum disorder from serbia', 'lyme endocarditis as an emerging infectious disease: a review of the literature', 'management and treatment of children with medulloblastoma in serbia, a middle-income country', 'management of orbital complications of acute rhinosinusitis in pediatric patients: a 15-year single-center experience', 'mapping disparities in education across low- and middle-income countries', 'mapping geographical inequalities in childhood diarrhoeal morbidity and mortality in low-income and middle-income countries, 2000–17: analysis for the global burden of disease study 2017', 'mechanisms of intracellular chlamydiae survival [mehanizmi intracelularnog preživljavanja hlamidija]', 'medical students’ knowledge level about ebola [nivo znanja studenata medicine o eboli]', 'mental health aspect of quality of life in the menopausal transition', 'metformin and antineoplastic action', 'micro-elimination of hcv as a possible therapeutic strategy: our experience and a review of literature', 'microbiological diagnosis of tuberculosis in serbia in the period 2001-2003', 'molecular detection of bovine herpesvirus 1 (bohv-1) in cattle in serbia', 'mortality due to malignant tumors in children and adolescents in belgrade 1980-1993 [mortalitet od malignih tumora kod dece i adolescenata u beogradu od 1980. do 1993. godine.]', 'mortality from endometrial cancer in female population of belgrade [mortalitet od raka endometrijuma u zenskoj populaciji beograda.]', 'mucormycosis of the paranasal sinuses in a patient with acute myeloid leukemia', 'mycoplasmas and aids [mikoplazme i ejds (aids).]', 'neonatal herpes in serbia: is it a problem or not?', 'neonatal tetanus in serbia from 1968 through 1997', 'neural manifestations in lyme disease (lyme borreliosis of the nervous system) [nervne pojave u lajmskoj bolesti (lajm-borelioza nervnog sistema).]', 'neurological disorders associated with hiv infection [neuroloske komplikacije hiv infekcije.]', 'new antidepressant utilization pre- and post-bereavement: a population-based study of partners and adult children', 'nosocomial infections in the departments of orthopedics and traumatology', 'nosocomial infections surveillance', 'nosocomial infections--a problem of contemporary medicine', 'oesophageal-cancer-derived death in the population of belgrade in a period 1989-2006 [umiranje od raka jednjaka u beogradskoj populaciji u periodu od 1989. do 2006. godine]', 'oral contraceptives usage patterns: study of knowledge, attitudes and experience in belgrade female medical students', 'oral sex related knowledge and oral sex behavior among homosexual and heterosexual men in belgrade: a cross-sectional study', 'organization of the program for prevention and control of nosocomial infections in france [organizacija rada na sprecevanju i suzbijanju nozokomijalnih infekcija u francuskoj.]', 'osteoarticular manifestations in brucellosis [kostano-zglobne manifestacije bruceloze]', 'palliative care in multiple sclerosis: european guideline', 'parental history of atopic diseases and presence of allergic rhinitis and asthma in children with atopic dermatitis', 'patterns of condom use in a university student population residing in a high-risk area for hiv infection', 'perception of first-year versus sixth-year medical students in serbia on studying medicine and postgraduate career [stavovi studenata prve godine u odnosu na šestu godinu medicine u srbiji prema studiju i poslijediplomskoj karijeri]', 'perception of health-related case studies in the context of introduction to clinical medicine course: students’ and teachers’ perspective', 'predicting cirrhosis based on standard laboratory parameters in patients with chronic hepatitis c virus infection [predvicrossed d signanje ciroze standardnim laboratorijskim parametrima kod bolesnika sa hroničnom hepatitis c virusnom infekcijom]', 'predictive value of alt levels for histologic findings in chronic hepatitis c [prediktivni značaj nivoa alt za histološki nalaz kod hroničnog c hepatitisa]', 'predictive value of transvaginal ultrasound score for detection of endometrial malignancy', 'predictors of health related-quality of life among elderly with disabilities', 'presence of the esp gene in enterococcus faecium derived from oropharyngeal microbiota of haematology patients', 'prevalence and mutational patterns of lamivudine-resistant hbv strains in chronically infected serbian patients', 'prevalence of human papillomavirus in oropharyngeal squamous cell carcinoma in serbia', 'prevalence of jc and bk polyomavirus excretion in the urine of hiv-infected patients from serbia', 'prevention of spreading of avian influenza in medical care facilities', 'primary liver cancer mortality in belgrade population [mortalitet od primarnih malignih tumora jetre u populaciji beograda.]', 'profile of rheumatology patients willing to report adverse drug reactions: bias from selective reporting', 'prognosis in multiple sclerosis', 'prognostic value of presepsin (soluble cd14-subtype) in diagnosis of ventilator-associated pneumonia and sepsis in trauma patients [prognostička vrednost presepsina (solubilnog cd 14-podtipa) u dijagnozi pneumonija povezanih sa mehaničkom ventilacijom i sepse kod traumatizovanih bolesnika]', 'psychosomatic factors of atopic dermatitis exacerbation', 'pulmonary manifestations of acquired immunodeficiency syndrome (aids) [plućne manifestacije sindroma stecene imunodeficijencije (aids-om).]', 'quality of life in infants with atopic dermatitis and their families', 'radiotherapy plus fifth day carboplatin in locally advanced bladder cancer', 'rapid laboratory diagnosis of tuberculosis in clinical practice [brza bakterioloska dijagnostika tuberkuloze u klinickoj praksi.]', 'real-life data on the efficacy and safety of ombitasvir/paritaprevir//ritonavir + dasabuvir + ribavirin in the patients with genotype 1 chronic hepatitis c virus infection in serbia [podaci iz realnog zivota o efikasnosti i bezbednosti ombitasvir//paritaprevir/ritonavir + dasabuvir + ribavirin rezima kod bolesnika sa genop 1 hepas c virusnom infekcijom u srbiji]', 'relationship between education and atherosclerotic disease risk factors in patients with peripheral arterial disease', \"relevance of students' demographic characteristics, sources of information and personal attitudes towards hiv testing for hiv knowledge: evidence from a post-conflict setting\", 'repeated prevalence studies of nosocomial infections in one university hospital in serbia', 'reply to chen', 'resistance mechanism of some selected strains of e. coli to kanamycin', 'resistance of group d streptococci to beta-lactam antibiotics [rezistencija grupe d streptokoka na beta-laktamske antibiotike.]', 'resistante m. tuberculosis and antituberculous chemotherapy as a clinical problem', 'response factors to pegylated interferon-alfa/ribavirin treatment in chronic hepatitis c patients genotype 1b', 'response to carnevali and colleagues', 'retroperitoneal foreign bodies [strana tela retroperitoneuma.]', 'ribavirin in the treatment of acute viral hepatitis: results of a multicenter study', 'risk behaviors for getting hiv infection among university students in serbia [rizično ponašanje kod dobivanja hiv infekcije među studentima u srbiji]', 'risk factors associated with poor clinical outcome in pyogenic spinal infections: 5-years’ intensive care experience', 'risk factors for the development of hospital infections in the intensive care units', 'risk factors for the development of malignant tumors of the urinary bladder [faktori rizika za nastanak malignih tumora mokraćne besike.]', 'risk perception of the antimicrobial resistance by infection control specialists in europe: a case-vignette study', 'role of cytokines in the pathogenesis of endogenous uveitis [uloga citokina u patogenezi endogenih uveitisa]', \"satisfaction survey of serbian oncologists after experience in french hospitals [enquête de satisfaction des cancérologues serbes en stage d'observation en france]\", 'self-confidence and clinical skills: the case of students who study medicine in english in a non-english speaking setting', 'sensitivity of strains isolated from hospitalized patients to cefoperazone examined by diffusion method', 'sensitivity, resistance and tolerance of streptococci and other bacteria to beta-lactam antibiotics', 'sequence variability at the internal ribosome entry site of the hcv genome in relation to therapy outcome [russian source]', \"serbian lymphoma study group (slg): the prognosis of aids-related non-hodgkin's lymphoma\", 'severe imported malaria in a serbian referral center [teška importovana malarija u tercijarnoj zravstvenoj ustanovi u srbiji]', 'severe strongyloidiasis and systemic vasculitis: comorbidity, association or both? case-based review', 'severe toxic acute liver injury', 'significance of genetic-epidemiologic studies in research on disease etiology [znacaj genetsko-epidemioloskih studija u istrazivanjima etiologije bolesti.]', 'significance of prognostic factors in urologic oncology [znacaj prognostickih faktora u uroloskoj onkologiji.]', 'some a spects of protection against tetanus', 'some risk factors for the development of type 2 diabetes in men and women of belgrade population', 'state of viral hepatitis care in 16 countries of central and eastern european region', 'statistical modeling and optimization of classical and ultrasound-assisted extraction of the minerals from galium mollugo l. by response surface methodology and genetic algorithm', 'streptococcus gallolyticus endocarditis in patient with liver cirrhosis: a case report', 'streptococcus pneumoniae and beta-lactam antibiotic agents [streptococcus pneumoniae i beta-laktaminski antibiotiski lekovi.]', 'streptococcus pneumoniae serotype distribution in vojvodina before the introduction of pneumococcal conjugate vaccines into the national immunization program', 'subacute liver failure of unknown origin', 'surgical site infections at the surgery clinic of the clinical hospital center in kragujevac [infekcije operativnog mesta na hirurskoj klinicì klinicko-bolnickog centra u kragujevcu.]', 'surgical-site infections--epidemiological characteristics', 'survival and mortality of adult-onset myasthenia gravis in the population of belgrade, serbia', 'syphilis resurgence in belgrade, serbia, in the new millennium: an outbreak in 2014', 'taeniosis and cysticercosis in serbia, 1990–2018: significance of standard of living', 'the 27th scientific expert conference of paediatricians from the north-eastern region of bosnia and herzegovina: vitamin d in paediatrics', 'the 28th meeting of the gunma association for organ transplantation', 'the analysis of virus-caused alterations of cellular and humoral immunoresponsiveness during the first days of morbilli rush in the young adult population', 'the correlation between activity of chronic aggressive hepatitis b and progression of hiv-infection', 'the effect of hydrophobicity of group a beta-hemolytic streptococcus in the process of adherence and biofilm production', 'the effect of vacuum-assisted closure therapy on methicillin-resistant staphylococcus aureus wound biofilms', 'the first nationwide multicenter study of acinetobacter baumannii recovered in serbia: emergence of oxa-72, oxa-23 and ndm-1-producing isolates', 'the frequency of pathological ultrasonographic findings of the gallbladder in patients with infectious diseases', 'the impact of environmental and behavioural cofactors on the development of cervical disorders in hr-hpv-infected women in serbia', 'the influence of host factors and sequence variability of the p7 region on the response to pegylated interferon/ribavirin therapy for chronic hepatitis c genotype 1b in patients from serbia', 'the influence of redox status on inter-individual variability in the response of human peripheral blood lymphocytes to ionizing radiation', 'the phenotypic and genotypic characterization of vancomycin-resistant enterococci in outpatients’ urine culture', 'the prevalence of the most important viral infections in renal transplant recipients in serbia', 'the role of interferon in the treatment of acute hepatitis c', 'the role of lamivudine in the treatment of hbe antigen negative liver cirrhosis', 'the role of pcr in detection of cytomegalovirus in blood and urine of transplanted patients', 'the role of single nucleotide polymorphisms of cytokine genes in viral infections', 'the role of t-lymphocyte subsets in susceptibility and resistance to induction of autoimmunity in the central nervous system [uloga subpopulacija t limfocita u osetljivosti i otpornosti na indukciju autoimunosti u centralnom nervnom sistemu.]', 'the role of ureaplasma urealyticum and mycoplasma hominis in infertility', 'the role of varicella zoster virus in the development of periapical pathoses and root resorption: a systematic review', 'the sequence analysis of epstein–barr virus ebna1 gene: could viral screening markers for nasopharyngeal carcinoma be identified?', 'the treatment outcome of chronic hbv infection among hbv/hiv co-infected and hbv mono-infected patients', 'therapeutical problems related to systemic bacteria-induced inflammatory response (sirs) of prolonged course', 'therapy problems in treatment of lung aspergillosis and tuberculosis', 'tick-borne encephalitis in serbia: a case series', 'topographic distribution of multiple sclerosis in the belgrade municipalities [topografska distribucija multiple skleroze u opstinama beograda.]', 'towards a framework for research ethics education for physicians in serbia', 'toxicity of the lower gastrointestinal tract and its predictive factors after 72gy conventionally fractionated 3d conformal radiotherapy of localized prostate cancer', 'transfer of streptococcus pneumonia genetic material by the process of transformation [prenos genetskog materijala bakterije streptococcus pneumoniae procesom transformacija.]', 'treatment and prophylaxis of opportunistic infections in individuals infected with hiv [lecenje i profilaksa oportunistickih infekcija u bolesnika inficiranih hiv-om.]', 'treatment of locally advanced esophageal cancer by combined intralumenal brachytherapy and external beam radiotherapy [lecenje lokalno uznapredovalog karcinoma jednjaka kombinovanom endoluminalnom i transkutanom radioterapijom.]', 'trends in hpv vaccine initiation and completion among girls in texas: behavioral risk factor surveillance system data, 2008-2010', 'tuberculosis outbreak among high school students in novi pazar, serbia 2016: a retrospective-cohort study', 'undiagnosed tuberculosis as clinical, epidemiological and medicolegal problem: report of two cases', 'use of is6110 polymorphism analysis in molecular epidemiological studies of tuberculosis (belgrade study results) [polimorfizam is6110 u genomu mycobacterium tuberculosis kao osnov molekularnih epidemioloskih studija tuberkuloze na primeru rezultata beogradske studije.]', 'varicella-zoster virus encephalitis during standard induction chemotherapy for acute myeloid leukemia', 'what do male medical students know about the pill? study of knowledge and attitudes at the university of belgrade']\n"
     ]
    }
   ],
   "source": [
    "def check_cited_by_consistency(group):\n",
    "    return group['Cited by'].nunique() == 1\n",
    "\n",
    "# Apply the function\n",
    "inconsistent_papers = data.groupby('Title').apply(lambda x: not check_cited_by_consistency(x))\n",
    "\n",
    "# Filter out inconsistent papers\n",
    "inconsistent_papers = inconsistent_papers[inconsistent_papers]\n",
    "\n",
    "# Print inconsistent papers\n",
    "print(\"Inconsistent Papers:\")\n",
    "print(inconsistent_papers.index.tolist())"
   ]
  },
  {
   "cell_type": "code",
   "execution_count": 118,
   "metadata": {},
   "outputs": [
    {
     "name": "stdout",
     "output_type": "stream",
     "text": [
      "Empty DataFrame\n",
      "Columns: [Title, Cited by]\n",
      "Index: []\n"
     ]
    }
   ],
   "source": [
    "data['Cited by'] = data['Cited by'].fillna(0)\n",
    "cited_by_values = data.groupby('Title')['Cited by'].apply(lambda x: list(x)).reset_index()\n",
    "filtered_cited_by_values = cited_by_values[cited_by_values['Cited by'].apply(lambda x: len(set(x)) > 1)]\n",
    "print(filtered_cited_by_values)"
   ]
  },
  {
   "cell_type": "markdown",
   "metadata": {},
   "source": [
    "H-indeks racunanje i razlika"
   ]
  },
  {
   "cell_type": "code",
   "execution_count": 121,
   "metadata": {},
   "outputs": [
    {
     "name": "stdout",
     "output_type": "stream",
     "text": [
      "                            Author                                           Cited by  H-index\n",
      "0                aleksandar dzamic  [4.0, 11.0, 4.0, 1.0, 5.0, 6.0, 3.0, 1.0, 0.0,...        5\n",
      "1              aleksandra knezevic  [1.0, 0.0, 6.0, 10.0, 0.0, 0.0, 6.0, 1.0, 4.0,...        8\n",
      "2   aleksandra radovanovic-spurnic                               [0.0, 0.0, 3.0, 0.0]        1\n",
      "3                        ana banko  [7.0, 0.0, 1.0, 0.0, 0.0, 2.0, 13.0, 1.0, 0.0,...        3\n",
      "4                 branislava savic  [2.0, 1.0, 10.0, 3.0, 6.0, 1.0, 11.0, 24.0, 24...       10\n",
      "5                 branko milosevic  [1.0, 0.0, 0.0, 0.0, 0.0, 9.0, 1.0, 2.0, 4.0, ...        6\n",
      "6          darija kisic-tepavcevic  [0.0, 0.0, 0.0, 0.0, 1.0, 1.0, 0.0, 2.0, 3.0, ...       11\n",
      "7                  dragana vukovic  [0.0, 2.0, 1.0, 0.0, 1.0, 15.0, 242.0, 2.0, 4....       14\n",
      "8                      dusan kekic  [0.0, 2.0, 3.0, 0.0, 1.0, 0.0, 0.0, 2.0, 2.0, ...        3\n",
      "9                    dusan popadic  [2.0, 6.0, 11.0, 1.0, 3.0, 3.0, 7.0, 11.0, 9.0...       19\n",
      "10              eleonora dubljanin  [0.0, 4.0, 0.0, 1.0, 8.0, 6.0, 2.0, 26.0, 69.0...       17\n",
      "11                 emina milosevic  [0.0, 6.0, 0.0, 3.0, 7.0, 9.0, 7.0, 9.0, 14.0,...        7\n",
      "12                goran stevanovic  [2.0, 1.0, 0.0, 0.0, 0.0, 0.0, 0.0, 0.0, 0.0, ...        6\n",
      "13                    gorica maric  [2.0, 0.0, 0.0, 0.0, 2.0, 0.0, 2.0, 1.0, 2.0, ...        6\n",
      "14                       ina gajic  [0.0, 3.0, 0.0, 1.0, 0.0, 0.0, 1.0, 7.0, 7.0, ...        3\n",
      "15              irena arandjelovic  [0.0, 5.0, 2.0, 1.0, 1.0, 94.0, 0.0, 2.0, 4.0,...        4\n",
      "16          irena vukovic-petrovic                                    [6.0, 8.0, 6.0]        3\n",
      "17                  isidora vujcic  [2.0, 1.0, 7.0, 15.0, 69.0, 10.0, 0.0, 147.0, ...       12\n",
      "18                  ivana cirkovic  [0.0, 0.0, 0.0, 0.0, 0.0, 0.0, 3.0, 6.0, 4.0, ...       11\n",
      "19          ivana colovic-colovski                                        [2.0, 26.0]        2\n",
      "20                     ivana dakic  [1.0, 2.0, 4.0, 181.0, 9.0, 4.0, 6.0, 2.0, 5.0...       12\n",
      "21                 ivana lazarevic  [7.0, 1.0, 2.0, 0.0, 0.0, 0.0, 1.0, 8.0, 10.0,...        8\n",
      "22                 ivana milosevic  [0.0, 0.0, 0.0, 1.0, 0.0, 0.0, 0.0, 26.0, 0.0,...        7\n",
      "23             jadranka maksimovic  [2.0, 0.0, 1.0, 5.0, 3.0, 2.0, 6.0, 7.0, 13.0,...        9\n",
      "24                  jasmina poluga  [0.0, 0.0, 0.0, 0.0, 0.0, 1.0, 2.0, 6.0, 46.0,...        5\n",
      "25         jasmina simonovic-babic  [0.0, 1.0, 2.0, 2.0, 1.0, 2.0, 14.0, 1.0, 0.0,...        2\n",
      "26                 jelena jordovic                     [0.0, 1.0, 2.0, 9.0, 1.0, 2.0]        2\n",
      "27                   jovan malinic                                    [0.0, 0.0, 2.0]        1\n",
      "28                     jovan ranin  [2.0, 0.0, 1.0, 0.0, 6.0, 7.0, 1.0, 2.0, 6.0, ...        8\n",
      "29                 ksenija bojovic  [0.0, 0.0, 0.0, 1.0, 0.0, 2.0, 0.0, 1.0, 1.0, ...        4\n",
      "30                     lazar ranin  [0.0, 3.0, 0.0, 1.0, 0.0, 0.0, 1.0, 7.0, 1.0, ...        7\n",
      "31         ljiljana markovic-denic  [0.0, 0.0, 5.0, 0.0, 4.0, 0.0, 12.0, 18.0, 2.0...       14\n",
      "32                      maja cupic  [0.0, 7.0, 0.0, 0.0, 1.0, 0.0, 2.0, 13.0, 5.0,...        7\n",
      "33                 maja stanojevic  [0.0, 1.0, 2.0, 6.0, 8.0, 0.0, 1.0, 0.0, 0.0, ...       20\n",
      "34                     milos korac  [0.0, 0.0, 0.0, 26.0, 0.0, 9.0, 0.0, 1.0, 7.0,...        7\n",
      "35                  milos markovic  [0.0, 8.0, 0.0, 0.0, 6.0, 13.0, 3.0, 7.0, 62.0...       11\n",
      "36               natasa maksimovic  [0.0, 0.0, 1.0, 0.0, 0.0, 0.0, 1.0, 6.0, 0.0, ...        9\n",
      "37                  natasa nikolic  [0.0, 0.0, 0.0, 1.0, 0.0, 2.0, 0.0, 8.0, 1.0, ...        2\n",
      "38         natasa vuckovic-opavski                                         [0.0, 0.0]        0\n",
      "39                 nikola mitrovic  [0.0, 1.0, 0.0, 0.0, 2.0, 0.0, 9.0, 1.0, 0.0, ...        5\n",
      "40         sandra sipetic-grujicic  [0.0, 2.0, 1.0, 1.0, 1.0, 0.0, 1.0, 0.0, 1.0, ...        9\n",
      "41                  sanja mitrovic  [4.0, 11.0, 1.0, 2.0, 2.0, 1.0, 63.0, 4.0, 4.0...        4\n",
      "42               slobodanka djukic  [0.0, 4.0, 12.0, 2.0, 0.0, 8.0, 43.0, 5.0, 2.0...        8\n",
      "43                 tanja jovanovic  [1.0, 0.0, 0.0, 6.0, 1.0, 10.0, 1.0, 4.0, 4.0,...       11\n",
      "44                tatjana gazibara  [0.0, 0.0, 0.0, 1.0, 0.0, 0.0, 0.0, 0.0, 0.0, ...       11\n",
      "45              tatjana pekmezovic  [0.0, 0.0, 4.0, 0.0, 0.0, 2.0, 1.0, 0.0, 2.0, ...       27\n",
      "46     valentina arsic-arsenijevic  [1.0, 5.0, 4.0, 7.0, 1.0, 1.0, 7.0, 3.0, 22.0,...       17\n",
      "47                      vera mijac  [3.0, 0.0, 1.0, 8.0, 7.0, 7.0, 1.0, 2.0, 3.0, ...        6\n",
      "48                    vera pravica  [6.0, 8.0, 0.0, 6.0, 5.0, 5.0, 3.0, 11.0, 7.0,...       33\n",
      "49                vladimir nikolic                     [2.0, 1.0, 1.0, 1.0, 0.0, 0.0]        1\n",
      "50                vladimir perovic  [3.0, 8.0, 0.0, 6.0, 5.0, 11.0, 22.0, 31.0, 5....        6\n",
      "51              vladimir trajkovic  [3.0, 2.0, 1.0, 1.0, 6.0, 3.0, 0.0, 1.0, 8.0, ...       36\n",
      "52                     vuk marusic          [0.0, 4.0, 0.0, 0.0, 3.0, 6.0, 11.0, 0.0]        3\n"
     ]
    }
   ],
   "source": [
    "author_citations = data.groupby('Author')['Cited by'].apply(list).reset_index()\n",
    "def calculate_h_index(citations):\n",
    "    # Sort citations in descending order\n",
    "    sorted_citations = sorted(citations, reverse=True)\n",
    "    # Calculate H-index\n",
    "    h_index = 0\n",
    "    for i, citation in enumerate(sorted_citations):\n",
    "        if citation >= i + 1:\n",
    "            h_index = i + 1\n",
    "        else:\n",
    "            break\n",
    "    return h_index\n",
    "author_citations['H-index'] = author_citations['Cited by'].apply(calculate_h_index)\n",
    "print(author_citations)\n"
   ]
  },
  {
   "cell_type": "code",
   "execution_count": 128,
   "metadata": {},
   "outputs": [
    {
     "name": "stdout",
     "output_type": "stream",
     "text": [
      "Autori kod kojih postoji razlika u referentnom i izracunatom H indeksu\n",
      "                     Author  H indeks  H-index  Razlika\n",
      "22             vera pravica        35       33        2\n",
      "7   natasa vuckovic-opavski         1        0        1\n",
      "8         aleksandar dzamic         6        5        1\n",
      "24       vladimir trajkovic        37       36        1\n",
      "26          emina milosevic         8        7        1\n"
     ]
    }
   ],
   "source": [
    "h_index_spojeno = pd.merge(autori, author_citations, left_on='Puno ime', right_on='Author', how='left')\n",
    "h_index_spojeno = h_index_spojeno[['Author','H indeks','H-index']]\n",
    "h_index_spojeno['Razlika'] = h_index_spojeno['H indeks'] - h_index_spojeno['H-index']\n",
    "h_index_spojeno = h_index_spojeno[h_index_spojeno['Razlika'].apply(lambda x: x > 0)]\n",
    "print('Autori kod kojih postoji razlika u referentnom i izracunatom H indeksu')\n",
    "print(h_index_spojeno.sort_values(by=\"Razlika\",ascending=False))"
   ]
  },
  {
   "cell_type": "markdown",
   "metadata": {},
   "source": [
    "Produktivnost katedri"
   ]
  },
  {
   "cell_type": "code",
   "execution_count": 129,
   "metadata": {},
   "outputs": [
    {
     "name": "stdout",
     "output_type": "stream",
     "text": [
      "                     Katedra  Total Papers  Total Citations  Paper Rank  Citation Rank  Productivity Score\n",
      "3  katedra za mikrobiologiju           633          24648.0         2.0            1.0                 3.0\n",
      "1  katedra za epidemiologiju           664           7580.0         1.0            3.0                 4.0\n",
      "2     katedra za imunologiju           343          17526.0         3.0            2.0                 5.0\n",
      "0         infektivne bolesti           261           1108.0         4.0            4.0                 8.0\n"
     ]
    }
   ],
   "source": [
    "katedra_stats = data.groupby('Katedra').agg({\n",
    "    'Title': 'count',\n",
    "    'Cited by': 'sum'\n",
    "}).reset_index()\n",
    "katedra_stats = katedra_stats.rename(columns={'Title': 'Total Papers', 'Cited by': 'Total Citations'})\n",
    "katedra_stats['Paper Rank'] = katedra_stats['Total Papers'].rank(ascending=False)\n",
    "katedra_stats['Citation Rank'] = katedra_stats['Total Citations'].rank(ascending=False)\n",
    "katedra_stats['Productivity Score'] = katedra_stats['Paper Rank'] + katedra_stats['Citation Rank']\n",
    "katedra_stats = katedra_stats.sort_values(by='Productivity Score')\n",
    "print(katedra_stats)\n",
    "\n",
    "\n"
   ]
  },
  {
   "cell_type": "code",
   "execution_count": 131,
   "metadata": {},
   "outputs": [
    {
     "name": "stdout",
     "output_type": "stream",
     "text": [
      "       Year                    Katedra  Total Papers  Total Citations\n",
      "107  2019.0         infektivne bolesti            36             69.0\n",
      "92   2015.0  katedra za epidemiologiju            76            683.0\n",
      "81   2012.0     katedra za imunologiju            30           3238.0\n",
      "90   2014.0  katedra za mikrobiologiju            87           1337.0\n"
     ]
    }
   ],
   "source": [
    "yearly_katedra_stats = data.groupby(['Year','Katedra']).agg({\n",
    "    'Title': 'count',\n",
    "    'Cited by': 'sum'\n",
    "}).reset_index()\n",
    "yearly_katedra_stats = yearly_katedra_stats.rename(columns={'Title': 'Total Papers', 'Cited by': 'Total Citations'})\n",
    "peak_productivity_katedra = yearly_katedra_stats.loc[\n",
    "    yearly_katedra_stats.groupby('Katedra')['Total Papers'].idxmax()\n",
    "]\n",
    "\n",
    "print(peak_productivity_katedra)"
   ]
  },
  {
   "cell_type": "markdown",
   "metadata": {},
   "source": [
    "Produktivnost za ceo fakultet"
   ]
  },
  {
   "cell_type": "code",
   "execution_count": 139,
   "metadata": {},
   "outputs": [
    {
     "name": "stdout",
     "output_type": "stream",
     "text": [
      "Year               2018.0\n",
      "Total Papers        190.0\n",
      "Total Citations    6083.0\n",
      "Name: 33, dtype: float64\n"
     ]
    }
   ],
   "source": [
    "yearly_faculty_stats = data.groupby('Year').agg({\n",
    "    'Title': 'count',          \n",
    "    'Cited by': 'sum'          \n",
    "}).reset_index()\n",
    "\n",
    "yearly_faculty_stats = yearly_faculty_stats.rename(columns={'Title': 'Total Papers', 'Cited by': 'Total Citations'})\n",
    "peak_productivity_faculty = yearly_faculty_stats.loc[\n",
    "    yearly_faculty_stats['Total Papers'].idxmax()\n",
    "]\n",
    "\n",
    "print(peak_productivity_faculty)"
   ]
  },
  {
   "cell_type": "code",
   "execution_count": 143,
   "metadata": {},
   "outputs": [
    {
     "name": "stdout",
     "output_type": "stream",
     "text": [
      "                                                  Title                                  Source title  Total Articles\n",
      "629   introducing e-learning in epidemiology course ...                    journal of medical systems               8\n",
      "1019  significance of ugt1a1∗28 genotype in patients...               journal of medical biochemistry               6\n",
      "409   fib-4 and apri scores for predicting severe fi...  journal of infection in developing countries               6\n",
      "213   clinical characteristics and functional outcom...                          journal of neurology               6\n",
      "220   clostridioides difficile ribotype distribution...                                 gut pathogens               6\n",
      "...                                                 ...                                           ...             ...\n",
      "640   is there a difference in risk factors for sing...           clinical neurology and neurosurgery               1\n",
      "204   chlamydia trachomatis infection in newborn inf...           srpski arhiv za celokupno lekarstvo               1\n",
      "203                    childhood tuberculosis in serbia          pediatric infectious disease journal               1\n",
      "644   isolation, characterization, and in vitro cyto...                                 planta medica               1\n",
      "0     \"invisible\" primary cutaneous diffuse large b-...                  journal of clinical oncology               1\n",
      "\n",
      "[1259 rows x 3 columns]\n"
     ]
    }
   ],
   "source": [
    "paper_conts_by_source = data.groupby(['Title','Source title']).size().reset_index(name='Total Articles')\n",
    "print(paper_conts_by_source.sort_values(by='Total Articles', ascending=False))"
   ]
  },
  {
   "cell_type": "code",
   "execution_count": 148,
   "metadata": {},
   "outputs": [
    {
     "name": "stdout",
     "output_type": "stream",
     "text": [
      "Radovi koji su izlistani u vise magazina:  Empty DataFrame\n",
      "Columns: [Title, Unique Source Count]\n",
      "Index: []\n"
     ]
    }
   ],
   "source": [
    "unique_sources = data.groupby('Title')['Source title'].nunique().reset_index()\n",
    "unique_sources.columns = ['Title', 'Unique Source Count']\n",
    "non_consistent_papers = unique_sources[unique_sources['Unique Source Count'] > 1]\n",
    "print(f'Radovi koji su izlistani u vise magazina: ', non_consistent_papers)"
   ]
  },
  {
   "cell_type": "code",
   "execution_count": 150,
   "metadata": {},
   "outputs": [
    {
     "name": "stdout",
     "output_type": "stream",
     "text": [
      "                     Katedra  Total Publications  Unique Journals\n",
      "0         infektivne bolesti                 261               66\n",
      "1  katedra za epidemiologiju                 664              233\n",
      "2     katedra za imunologiju                 343              164\n",
      "3  katedra za mikrobiologiju                 633              178\n"
     ]
    }
   ],
   "source": [
    "katedra_stats_difference = data.groupby('Katedra').agg({\n",
    "    'Title': 'count',\n",
    "    'Source title': 'nunique'\n",
    "}).reset_index()\n",
    "\n",
    "katedra_stats_difference.columns = ['Katedra', 'Total Publications', 'Unique Journals']\n",
    "\n",
    "print(katedra_stats_difference)"
   ]
  },
  {
   "cell_type": "code",
   "execution_count": 158,
   "metadata": {},
   "outputs": [
    {
     "data": {
      "image/png": "[encoded data removed]",
      "text/plain": [
       "<Figure size 2000x500 with 2 Axes>"
      ]
     },
     "metadata": {},
     "output_type": "display_data"
    }
   ],
   "source": [
    "fig, axes = plt.subplots(1, 2, figsize=(20, 5))\n",
    "fig.subplots_adjust(wspace=0.3)\n",
    "\n",
    "# Plot total publications\n",
    "axes[0].bar(katedra_stats_difference['Katedra'], katedra_stats_difference['Total Publications'], color='#87CEEB', alpha=0.6, label='Total Publications')\n",
    "axes[0].set_xlabel('Katedra')\n",
    "axes[0].set_ylabel('Total Publications', color='#87CEEB')\n",
    "axes[0].tick_params(axis='y', labelcolor='#87CEEB')\n",
    "plt.xticks(fontsize=8)\n",
    "\n",
    "# Create another y-axis to plot unique journals\n",
    "# ax2 = axes[0].twinx()\n",
    "axes[1].plot(katedra_stats_difference['Katedra'], katedra_stats_difference['Unique Journals'], color='#f28500', marker='o', label='Unique Journals')\n",
    "axes[1].set_ylabel('Unique Journals', color='#f28500')\n",
    "axes[1].tick_params(axis='y', labelcolor='#f28500')\n",
    "\n",
    "# Add title and legends\n",
    "plt.title('Comparison of Publishing Volume and Frequency by Katedra')\n",
    "fig.tight_layout()\n",
    "plt.show()"
   ]
  },
  {
   "cell_type": "code",
   "execution_count": 161,
   "metadata": {},
   "outputs": [
    {
     "name": "stdout",
     "output_type": "stream",
     "text": [
      "Prosecan broj autora po katedri:                       Katedra  Author count\n",
      "0         infektivne bolesti      2.816092\n",
      "1  katedra za epidemiologiju      1.760542\n",
      "2     katedra za imunologiju      1.717201\n",
      "3  katedra za mikrobiologiju      2.420221\n"
     ]
    }
   ],
   "source": [
    "avg_authors_per_katedra = data.groupby('Katedra')['Author count'].mean().reset_index()\n",
    "print(f'Prosecan broj autora po katedri: ', avg_authors_per_katedra)"
   ]
  },
  {
   "cell_type": "code",
   "execution_count": 172,
   "metadata": {},
   "outputs": [
    {
     "name": "stdout",
     "output_type": "stream",
     "text": [
      "                  Author                                            Authors                                              Title    Year                              Source title  Issue  Cited by Document Type                    Katedra  Author count  Fraction  CoauthorsCount\n",
      "1088  vladimir trajkovic  klionsky d.j., abdelmohsen k., abe a., abedin ...  guidelines for the use and interpretation of a...  2016.0                                 autophagy      1    2617.0        Review     katedra za imunologiju             1       1.0            2469\n",
      "1127  vladimir trajkovic  klionsky d.j., abdalla f.c., abeliovich h., ab...  guidelines for the use and interpretation of a...  2012.0                                 autophagy      4    2477.0        Review     katedra za imunologiju             1       1.0            1269\n",
      "1884  eleonora dubljanin  lozano r., fullman n., abate d., abay s.m., ab...  measuring progress from 1990 to 2017 and proje...  2018.0                                the lancet  10159      66.0       Article  katedra za mikrobiologiju             2       0.5            1212\n",
      "802       isidora vujcic  lozano r., fullman n., abate d., abay s.m., ab...  measuring progress from 1990 to 2017 and proje...  2018.0                                the lancet  10159      66.0       Article  katedra za epidemiologiju             2       0.5            1212\n",
      "801       isidora vujcic  dicker d., nguyen g., abate d., abate k.h., ab...  global, regional, and national age-sex-specifi...  2018.0                                the lancet  10159     163.0       Article  katedra za epidemiologiju             2       0.5            1160\n",
      "...                  ...                                                ...                                                ...     ...                                       ...    ...       ...           ...                        ...           ...       ...             ...\n",
      "1196  vladimir trajkovic                                       trajkovic v.                         nuvion protein design labs  2002.0  current opinion in investigational drugs      3      15.0        Review     katedra za imunologiju             1       1.0               1\n",
      "1183  vladimir trajkovic                                       trajković v.  the role of mycobacterial secretory proteins i...  2004.0                        medicinski pregled    NaN       2.0       Article     katedra za imunologiju             1       1.0               1\n",
      "840     tatjana gazibara                                        gazibara t.  the 27th scientific expert conference of paedi...  2018.0   central european journal of paediatrics      2       0.0          Note  katedra za epidemiologiju             1       1.0               1\n",
      "841     tatjana gazibara                                        gazibara t.  associations of vitamin d levels and asthma in...  2018.0   central european journal of paediatrics      2       0.0        Review  katedra za epidemiologiju             1       1.0               1\n",
      "1207  vladimir trajkovic                                       trajkovic v.  modulation of inducible nitric oxide synthase ...  2001.0                   current drug metabolism      3      14.0       Article     katedra za imunologiju             1       1.0               1\n",
      "\n",
      "[1901 rows x 12 columns]\n"
     ]
    }
   ],
   "source": [
    "print(data.sort_values(by=\"CoauthorsCount\", ascending=False))"
   ]
  },
  {
   "cell_type": "code",
   "execution_count": 184,
   "metadata": {},
   "outputs": [
    {
     "name": "stdout",
     "output_type": "stream",
     "text": [
      "                                                 Title  Author count  CoauthorsCount  Diffrence\n",
      "476  guidelines for the use and interpretation of a...             1            2469     2469.0\n",
      "475  guidelines for the use and interpretation of a...             1            1269     1269.0\n",
      "451  global, regional, and national age-sex-specifi...             1            1019     1019.0\n",
      "696  measuring performance on the healthcare access...             1             871      871.0\n",
      "464  global, regional, and national life expectancy...             1             772      772.0\n",
      "..                                                 ...           ...             ...        ...\n",
      "429  gene-environment interaction: a genetic-epidem...             1               1        1.0\n",
      "242  conventional and molecular methods in diagnosi...             4               4        1.0\n",
      "355                 epidemiology of sleep disturbances             1               1        1.0\n",
      "797                         nuvion protein design labs             1               1        1.0\n",
      "122  associations of vitamin d levels and asthma in...             1               1        1.0\n",
      "\n",
      "[1259 rows x 4 columns]\n"
     ]
    }
   ],
   "source": [
    "coutors_inner_vs_coutors_outher = data.groupby('Title').agg({\n",
    "    'Author count': 'first',\n",
    "    'CoauthorsCount': 'first',\n",
    "}).reset_index()\n",
    "coutors_inner_vs_coutors_outher['Diffrence'] = coutors_inner_vs_coutors_outher['CoauthorsCount'] / coutors_inner_vs_coutors_outher['Author count']\n",
    "coutors_inner_vs_coutors_outher = coutors_inner_vs_coutors_outher[coutors_inner_vs_coutors_outher['Diffrence'].apply(lambda x: x > 0)]\n",
    "print(coutors_inner_vs_coutors_outher.sort_values(by='Diffrence', ascending=False))"
   ]
  },
  {
   "cell_type": "code",
   "execution_count": 189,
   "metadata": {},
   "outputs": [
    {
     "name": "stdout",
     "output_type": "stream",
     "text": [
      "                    Author                                            Authors                                              Title    Year                                  Source title Issue  Cited by Document Type             Katedra  Author count  Fraction  CoauthorsCount\n",
      "0  jasmina simonovic-babic  chkhartishvili n., holban t., babić j.s., alex...  state of viral hepatitis care in 16 countries ...  2019.0     central european journal of public health     3       0.0       Article  infektivne bolesti             1  1.000000              64\n",
      "1  jasmina simonovic-babic  jordovic j., simonovic-babic j., gasic v., kot...  il-28b genotypes as predictors of long-term ou...  2019.0  journal of infection in developing countries     6       1.0       Article  infektivne bolesti             5  0.200000              14\n",
      "2  jasmina simonovic-babic  jordovic j., bojovic k., simonovic-babic j., g...  significance of ugt1a1∗28 genotype in patients...  2019.0               journal of medical biochemistry     1       2.0       Article  infektivne bolesti             6  0.166667              14\n",
      "3  jasmina simonovic-babic  kowalska j.d., bursa d., gökengin d., jilich d...  hiv health care providers are ready to introdu...  2018.0                                  hiv medicine     9       2.0       Article  infektivne bolesti             1  1.000000              57\n",
      "5  jasmina simonovic-babic  mitrovic n., delic d., markovic denic l., niko...  the prevalence and the risk factors for hepati...  2018.0  journal of infection in developing countries     3       1.0       Article  infektivne bolesti             6  0.166667              10\n",
      "                    Author                                              Title    Year                                  Source title  Cited by Document Type             Katedra  Author count\n",
      "0  jasmina simonovic-babic  state of viral hepatitis care in 16 countries ...  2019.0     central european journal of public health       0.0       Article  infektivne bolesti             1\n",
      "1  jasmina simonovic-babic  il-28b genotypes as predictors of long-term ou...  2019.0  journal of infection in developing countries       1.0       Article  infektivne bolesti             5\n",
      "2  jasmina simonovic-babic  significance of ugt1a1∗28 genotype in patients...  2019.0               journal of medical biochemistry       2.0       Article  infektivne bolesti             6\n",
      "3  jasmina simonovic-babic  hiv health care providers are ready to introdu...  2018.0                                  hiv medicine       2.0       Article  infektivne bolesti             1\n",
      "5  jasmina simonovic-babic  the prevalence and the risk factors for hepati...  2018.0  journal of infection in developing countries       1.0       Article  infektivne bolesti             6\n"
     ]
    }
   ],
   "source": [
    "print(data.head())\n",
    "data = data.drop(columns=['Authors', 'Issue', 'Fraction','CoauthorsCount'], axis=1)\n",
    "print(data.head())"
   ]
  },
  {
   "cell_type": "code",
   "execution_count": 190,
   "metadata": {},
   "outputs": [],
   "source": [
    "with open('./data/data_cleaned', 'wb') as file:\n",
    "    pickle.dump(data, file)"
   ]
  }
 ],
 "metadata": {
  "kernelspec": {
   "display_name": "Python 3",
   "language": "python",
   "name": "python3"
  },
  "language_info": {
   "codemirror_mode": {
    "name": "ipython",
    "version": 3
   },
   "file_extension": ".py",
   "mimetype": "text/x-python",
   "name": "python",
   "nbconvert_exporter": "python",
   "pygments_lexer": "ipython3",
   "version": "3.9.13"
  }
 },
 "nbformat": 4,
 "nbformat_minor": 2
}
