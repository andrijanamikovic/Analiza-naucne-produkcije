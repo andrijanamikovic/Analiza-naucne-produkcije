{
 "cells": [
  {
   "cell_type": "code",
   "execution_count": 5,
   "metadata": {},
   "outputs": [],
   "source": [
    "import networkx as nx\n",
    "from networkx.algorithms import community as com\n",
    "import pickle\n",
    "import pandas as pd\n",
    "import matplotlib.pyplot as plt\n",
    "import numpy as np\n",
    "from collections import Counter\n",
    "from operator import itemgetter\n",
    "import scipy.stats as stats"
   ]
  },
  {
   "cell_type": "code",
   "execution_count": 6,
   "metadata": {},
   "outputs": [],
   "source": [
    "with open('./data/autori_cleaned', 'rb') as file:\n",
    "    autori = pickle.load(file)\n",
    "with open('./data/data_cleaned', 'rb') as file:\n",
    "    data = pickle.load(file)"
   ]
  },
  {
   "cell_type": "code",
   "execution_count": 7,
   "metadata": {},
   "outputs": [
    {
     "name": "stdout",
     "output_type": "stream",
     "text": [
      "          Ime            Prezime                    Katedra  H indeks  \\\n",
      "0       tanja          jovanovic  katedra za mikrobiologiju        11   \n",
      "1  branislava              savic  katedra za mikrobiologiju        10   \n",
      "2       sanja           mitrovic  katedra za mikrobiologiju         4   \n",
      "3       lazar              ranin  katedra za mikrobiologiju         7   \n",
      "4   valentina  arsic-arsenijevic  katedra za mikrobiologiju        17   \n",
      "\n",
      "   Broj radova  id                     Puno ime              Skraceno  \n",
      "0           45   0              tanja jovanovic          jovanovic t.  \n",
      "1           30   1             branislava savic              savic b.  \n",
      "2           20   2               sanja mitrovic           mitrovic s.  \n",
      "3           40   3                  lazar ranin              ranin l.  \n",
      "4           52   4  valentina arsic-arsenijevic  arsic-arsenijevic v.  \n",
      "                    Author                                              Title  \\\n",
      "0  jasmina simonovic-babic  state of viral hepatitis care in 16 countries ...   \n",
      "1  jasmina simonovic-babic  il-28b genotypes as predictors of long-term ou...   \n",
      "2  jasmina simonovic-babic  significance of ugt1a1∗28 genotype in patients...   \n",
      "3  jasmina simonovic-babic  hiv health care providers are ready to introdu...   \n",
      "5  jasmina simonovic-babic  the prevalence and the risk factors for hepati...   \n",
      "\n",
      "     Year                                  Source title  Cited by  \\\n",
      "0  2019.0     central european journal of public health       0.0   \n",
      "1  2019.0  journal of infection in developing countries       1.0   \n",
      "2  2019.0               journal of medical biochemistry       2.0   \n",
      "3  2018.0                                  hiv medicine       2.0   \n",
      "5  2018.0  journal of infection in developing countries       1.0   \n",
      "\n",
      "  Document Type             Katedra  Author count  \n",
      "0       Article  infektivne bolesti             1  \n",
      "1       Article  infektivne bolesti             5  \n",
      "2       Article  infektivne bolesti             6  \n",
      "3       Article  infektivne bolesti             1  \n",
      "5       Article  infektivne bolesti             6  \n"
     ]
    }
   ],
   "source": [
    "print(autori.head())\n",
    "print(data.head())"
   ]
  },
  {
   "cell_type": "code",
   "execution_count": 32,
   "metadata": {},
   "outputs": [],
   "source": [
    "G = nx.Graph()\n",
    "for _,row in autori.iterrows():\n",
    "    G.add_node(row['Puno ime'], katedra=row['Katedra'])"
   ]
  },
  {
   "cell_type": "code",
   "execution_count": 42,
   "metadata": {},
   "outputs": [],
   "source": [
    "from itertools import combinations\n",
    "\n",
    "title_grouped = data.groupby('Title')['Author']\n",
    "for _,authors in title_grouped:\n",
    "    author_list = authors.tolist()\n",
    "    author_pairs = combinations(author_list,2)\n",
    "    for autor1,autor2 in author_pairs:\n",
    "        if (autor1, autor2) in G.edges:\n",
    "            G.edges[autor1,autor2]['weight'] += 1\n",
    "        else:\n",
    "            G.add_edge(autor1, autor2, weight=1)"
   ]
  },
  {
   "cell_type": "code",
   "execution_count": 43,
   "metadata": {},
   "outputs": [
    {
     "name": "stdout",
     "output_type": "stream",
     "text": [
      "[('tanja jovanovic', 'goran stevanovic', 16), ('tanja jovanovic', 'maja cupic', 88), ('tanja jovanovic', 'ivana lazarevic', 84), ('tanja jovanovic', 'ana banko', 52), ('tanja jovanovic', 'aleksandra knezevic', 52), ('tanja jovanovic', 'maja stanojevic', 24), ('tanja jovanovic', 'slobodanka djukic', 4), ('tanja jovanovic', 'jovan ranin', 4), ('tanja jovanovic', 'tatjana pekmezovic', 4), ('tanja jovanovic', 'vera pravica', 8), ('branislava savic', 'dragana vukovic', 52), ('branislava savic', 'ivana dakic', 32), ('branislava savic', 'irena arandjelovic', 16), ('branislava savic', 'lazar ranin', 4), ('branislava savic', 'jovan ranin', 4), ('branislava savic', 'ivana cirkovic', 4), ('branislava savic', 'vera mijac', 4), ('sanja mitrovic', 'valentina arsic-arsenijevic', 40), ('sanja mitrovic', 'aleksandar dzamic', 48), ('sanja mitrovic', 'ivana colovic-colovski', 4), ('sanja mitrovic', 'dusan popadic', 4), ('sanja mitrovic', 'isidora vujcic', 4), ('sanja mitrovic', 'eleonora dubljanin', 8), ('sanja mitrovic', 'slobodanka djukic', 4), ('sanja mitrovic', 'dragana vukovic', 4), ('lazar ranin', 'ivana cirkovic', 12), ('lazar ranin', 'ina gajic', 48), ('lazar ranin', 'slobodanka djukic', 28), ('lazar ranin', 'vera mijac', 68), ('lazar ranin', 'dusan kekic', 20), ('lazar ranin', 'ivana lazarevic', 8), ('lazar ranin', 'maja stanojevic', 12), ('lazar ranin', 'dragana vukovic', 16), ('lazar ranin', 'ivana dakic', 16), ('lazar ranin', 'irena arandjelovic', 4), ('lazar ranin', 'natasa vuckovic-opavski', 8), ('valentina arsic-arsenijevic', 'sandra sipetic-grujicic', 4), ('valentina arsic-arsenijevic', 'aleksandar dzamic', 44), ('valentina arsic-arsenijevic', 'ivana colovic-colovski', 4), ('valentina arsic-arsenijevic', 'dusan popadic', 4), ('valentina arsic-arsenijevic', 'vera mijac', 4), ('valentina arsic-arsenijevic', 'ivana cirkovic', 4), ('slobodanka djukic', 'dragana vukovic', 28), ('slobodanka djukic', 'ivana dakic', 12), ('slobodanka djukic', 'ivana cirkovic', 48), ('slobodanka djukic', 'vera mijac', 20), ('slobodanka djukic', 'ivana lazarevic', 8), ('slobodanka djukic', 'maja cupic', 4), ('maja cupic', 'goran stevanovic', 16), ('maja cupic', 'ivana lazarevic', 100), ('maja cupic', 'ana banko', 52), ('maja cupic', 'aleksandra knezevic', 20), ('maja cupic', 'maja stanojevic', 8), ('maja cupic', 'vera pravica', 12), ('maja cupic', 'dusan popadic', 4), ('maja cupic', 'milos markovic', 4), ('maja cupic', 'emina milosevic', 4), ('maja cupic', 'vladimir trajkovic', 4), ('maja cupic', 'dragana vukovic', 4), ('maja cupic', 'jovan ranin', 4), ('maja cupic', 'branko milosevic', 4), ('aleksandar dzamic', 'sandra sipetic-grujicic', 4), ('aleksandar dzamic', 'eleonora dubljanin', 16), ('aleksandar dzamic', 'ivana colovic-colovski', 4), ('aleksandar dzamic', 'isidora vujcic', 8), ('aleksandar dzamic', 'dusan popadic', 4), ('aleksandar dzamic', 'milos korac', 4), ('aleksandar dzamic', 'branko milosevic', 4), ('dragana vukovic', 'ivana dakic', 68), ('dragana vukovic', 'irena arandjelovic', 24), ('dragana vukovic', 'ina gajic', 8), ('dragana vukovic', 'ivana cirkovic', 32), ('dragana vukovic', 'dusan kekic', 4), ('dragana vukovic', 'vladimir trajkovic', 4), ('dragana vukovic', 'vera mijac', 4), ('ivana dakic', 'irena arandjelovic', 16), ('ivana dakic', 'ivana cirkovic', 8), ('ivana dakic', 'vladimir trajkovic', 4), ('aleksandra knezevic', 'dusan popadic', 4), ('aleksandra knezevic', 'ana banko', 8), ('aleksandra knezevic', 'ivana lazarevic', 16), ('aleksandra knezevic', 'maja stanojevic', 36), ('aleksandra knezevic', 'goran stevanovic', 4), ('aleksandra knezevic', 'vladimir trajkovic', 4), ('aleksandra knezevic', 'jovan ranin', 4), ('aleksandra knezevic', 'tatjana pekmezovic', 4), ('ivana lazarevic', 'goran stevanovic', 16), ('ivana lazarevic', 'ana banko', 52), ('ivana lazarevic', 'maja stanojevic', 28), ('ivana lazarevic', 'vera mijac', 8), ('ivana lazarevic', 'ina gajic', 8), ('ivana lazarevic', 'jasmina simonovic-babic', 8), ('ivana lazarevic', 'ksenija bojovic', 12), ('ivana lazarevic', 'natasa nikolic', 8), ('ivana lazarevic', 'jelena jordovic', 8), ('ivana lazarevic', 'ivana cirkovic', 4), ('ivana lazarevic', 'nikola mitrovic', 4), ('ivana lazarevic', 'vera pravica', 8), ('ivana lazarevic', 'milos korac', 4), ('ivana lazarevic', 'ivana milosevic', 4), ('maja stanojevic', 'jovan ranin', 40), ('maja stanojevic', 'vera mijac', 12), ('maja stanojevic', 'ina gajic', 12), ('maja stanojevic', 'ksenija bojovic', 4), ('maja stanojevic', 'vladimir trajkovic', 8), ('vera mijac', 'ivana cirkovic', 16), ('vera mijac', 'ina gajic', 40), ('vera mijac', 'dusan kekic', 12), ('vera mijac', 'vera pravica', 4), ('vera mijac', 'milos markovic', 4), ('vera mijac', 'vladimir perovic', 4), ('vera mijac', 'irena vukovic-petrovic', 4), ('ana banko', 'goran stevanovic', 16), ('ana banko', 'vera pravica', 8), ('ina gajic', 'dusan kekic', 20), ('ina gajic', 'irena arandjelovic', 4), ('irena arandjelovic', 'dusan kekic', 4), ('eleonora dubljanin', 'sandra sipetic-grujicic', 8), ('eleonora dubljanin', 'jadranka maksimovic', 12), ('eleonora dubljanin', 'isidora vujcic', 76), ('eleonora dubljanin', 'natasa maksimovic', 4), ('vera pravica', 'vladimir trajkovic', 8), ('vera pravica', 'emina milosevic', 24), ('vera pravica', 'irena vukovic-petrovic', 12), ('vera pravica', 'milos markovic', 28), ('vera pravica', 'vladimir perovic', 20), ('vera pravica', 'tatjana pekmezovic', 4), ('vera pravica', 'dusan popadic', 28), ('dusan popadic', 'vladimir trajkovic', 80), ('dusan popadic', 'milos markovic', 44), ('dusan popadic', 'tatjana pekmezovic', 8), ('dusan popadic', 'emina milosevic', 40), ('vladimir trajkovic', 'milos markovic', 40), ('vladimir trajkovic', 'emina milosevic', 20), ('vladimir trajkovic', 'irena vukovic-petrovic', 4), ('vladimir trajkovic', 'vladimir perovic', 12), ('milos markovic', 'emina milosevic', 36), ('milos markovic', 'vladimir perovic', 12), ('milos markovic', 'irena vukovic-petrovic', 8), ('emina milosevic', 'irena vukovic-petrovic', 4), ('emina milosevic', 'vladimir perovic', 4), ('emina milosevic', 'tatjana pekmezovic', 4), ('vladimir perovic', 'irena vukovic-petrovic', 8), ('ljiljana markovic-denic', 'jadranka maksimovic', 24), ('ljiljana markovic-denic', 'vuk marusic', 28), ('ljiljana markovic-denic', 'natasa maksimovic', 20), ('ljiljana markovic-denic', 'sandra sipetic-grujicic', 4), ('ljiljana markovic-denic', 'jasmina simonovic-babic', 8), ('ljiljana markovic-denic', 'ksenija bojovic', 8), ('ljiljana markovic-denic', 'nikola mitrovic', 8), ('ljiljana markovic-denic', 'goran stevanovic', 4), ('ljiljana markovic-denic', 'ivana milosevic', 4), ('ljiljana markovic-denic', 'natasa nikolic', 4), ('sandra sipetic-grujicic', 'jadranka maksimovic', 12), ('sandra sipetic-grujicic', 'isidora vujcic', 8), ('sandra sipetic-grujicic', 'goran stevanovic', 4), ('sandra sipetic-grujicic', 'natasa maksimovic', 8), ('tatjana pekmezovic', 'darija kisic-tepavcevic', 192), ('tatjana pekmezovic', 'gorica maric', 64), ('tatjana pekmezovic', 'tatjana gazibara', 160), ('tatjana pekmezovic', 'natasa maksimovic', 8), ('tatjana pekmezovic', 'jadranka maksimovic', 4), ('tatjana pekmezovic', 'isidora vujcic', 4), ('tatjana pekmezovic', 'vuk marusic', 4), ('darija kisic-tepavcevic', 'gorica maric', 64), ('darija kisic-tepavcevic', 'tatjana gazibara', 128), ('darija kisic-tepavcevic', 'jadranka maksimovic', 4), ('darija kisic-tepavcevic', 'natasa maksimovic', 4), ('darija kisic-tepavcevic', 'isidora vujcic', 4), ('darija kisic-tepavcevic', 'vuk marusic', 4), ('jadranka maksimovic', 'isidora vujcic', 16), ('jadranka maksimovic', 'natasa maksimovic', 8), ('jadranka maksimovic', 'tatjana gazibara', 4), ('jadranka maksimovic', 'gorica maric', 4), ('jadranka maksimovic', 'vuk marusic', 4), ('natasa maksimovic', 'vuk marusic', 12), ('natasa maksimovic', 'tatjana gazibara', 20), ('natasa maksimovic', 'gorica maric', 8), ('natasa maksimovic', 'isidora vujcic', 8), ('isidora vujcic', 'tatjana gazibara', 4), ('isidora vujcic', 'gorica maric', 4), ('isidora vujcic', 'vuk marusic', 4), ('tatjana gazibara', 'gorica maric', 64), ('tatjana gazibara', 'vuk marusic', 4), ('gorica maric', 'vuk marusic', 4), ('vladimir nikolic', 'ksenija bojovic', 4), ('jasmina simonovic-babic', 'nikola mitrovic', 20), ('jasmina simonovic-babic', 'ksenija bojovic', 24), ('jasmina simonovic-babic', 'jovan malinic', 4), ('jasmina simonovic-babic', 'natasa nikolic', 12), ('jasmina simonovic-babic', 'jelena jordovic', 8), ('jasmina simonovic-babic', 'milos korac', 4), ('jasmina simonovic-babic', 'jasmina poluga', 8), ('jasmina simonovic-babic', 'ivana milosevic', 4), ('milos korac', 'ivana milosevic', 56), ('milos korac', 'goran stevanovic', 20), ('milos korac', 'jovan ranin', 12), ('milos korac', 'branko milosevic', 36), ('milos korac', 'jasmina poluga', 8), ('milos korac', 'nikola mitrovic', 16), ('milos korac', 'ksenija bojovic', 8), ('milos korac', 'natasa nikolic', 8), ('milos korac', 'jovan malinic', 4), ('milos korac', 'aleksandra radovanovic-spurnic', 4), ('milos korac', 'jelena jordovic', 4), ('jovan ranin', 'ksenija bojovic', 4), ('branko milosevic', 'goran stevanovic', 44), ('branko milosevic', 'jasmina poluga', 36), ('branko milosevic', 'ivana milosevic', 40), ('branko milosevic', 'nikola mitrovic', 20), ('branko milosevic', 'jelena jordovic', 12), ('branko milosevic', 'natasa nikolic', 8), ('goran stevanovic', 'ivana milosevic', 48), ('goran stevanovic', 'natasa nikolic', 8), ('goran stevanovic', 'jasmina poluga', 24), ('goran stevanovic', 'nikola mitrovic', 16), ('goran stevanovic', 'jelena jordovic', 8), ('goran stevanovic', 'aleksandra radovanovic-spurnic', 8), ('jasmina poluga', 'ivana milosevic', 20), ('jasmina poluga', 'nikola mitrovic', 12), ('jasmina poluga', 'jelena jordovic', 8), ('jasmina poluga', 'ksenija bojovic', 4), ('jasmina poluga', 'natasa nikolic', 12), ('jasmina poluga', 'jovan malinic', 4), ('ksenija bojovic', 'nikola mitrovic', 32), ('ksenija bojovic', 'jovan malinic', 12), ('ksenija bojovic', 'ivana milosevic', 20), ('ksenija bojovic', 'natasa nikolic', 24), ('ksenija bojovic', 'jelena jordovic', 12), ('ivana milosevic', 'nikola mitrovic', 24), ('ivana milosevic', 'jelena jordovic', 16), ('ivana milosevic', 'natasa nikolic', 16), ('ivana milosevic', 'jovan malinic', 4), ('ivana milosevic', 'aleksandra radovanovic-spurnic', 8), ('aleksandra radovanovic-spurnic', 'nikola mitrovic', 4), ('aleksandra radovanovic-spurnic', 'natasa nikolic', 4), ('nikola mitrovic', 'jovan malinic', 12), ('nikola mitrovic', 'natasa nikolic', 24), ('nikola mitrovic', 'jelena jordovic', 8), ('natasa nikolic', 'jovan malinic', 8), ('natasa nikolic', 'jelena jordovic', 8)]\n"
     ]
    }
   ],
   "source": [
    "print(G.edges.data(\"weight\"))"
   ]
  },
  {
   "cell_type": "code",
   "execution_count": 36,
   "metadata": {},
   "outputs": [],
   "source": [
    "output_path=\"models/undirected_papper_colaboration.gml\"\n",
    "nx.write_gml(G, output_path)"
   ]
  },
  {
   "cell_type": "code",
   "execution_count": 37,
   "metadata": {},
   "outputs": [
    {
     "name": "stdout",
     "output_type": "stream",
     "text": [
      "Network Density: 0.1748911465892598\n"
     ]
    }
   ],
   "source": [
    "# Calculate density\n",
    "density = nx.density(G)\n",
    "print(f'Network Density: {density}')"
   ]
  },
  {
   "cell_type": "code",
   "execution_count": 38,
   "metadata": {},
   "outputs": [
    {
     "name": "stdout",
     "output_type": "stream",
     "text": [
      "Average Distance: 2.3570391872278664\n"
     ]
    }
   ],
   "source": [
    "avg_distance = nx.average_shortest_path_length(G)\n",
    "print(f'Average Distance: {avg_distance}')"
   ]
  },
  {
   "cell_type": "code",
   "execution_count": 39,
   "metadata": {},
   "outputs": [
    {
     "name": "stdout",
     "output_type": "stream",
     "text": [
      "Diameter: 5\n"
     ]
    }
   ],
   "source": [
    "diameter = nx.diameter(G)\n",
    "print(f'Diameter: {diameter}')"
   ]
  },
  {
   "cell_type": "code",
   "execution_count": 44,
   "metadata": {},
   "outputs": [
    {
     "name": "stdout",
     "output_type": "stream",
     "text": [
      "Number of Connected Components: 1\n",
      "Size of Each Component: [53]\n"
     ]
    }
   ],
   "source": [
    "if nx.is_connected(G):\n",
    "    num_components = 1\n",
    "    component_sizes = [len(G.nodes)]\n",
    "else:\n",
    "    components = list(nx.connected_components(G))\n",
    "    num_components = len(components)\n",
    "    component_sizes = [len(component) for component in components]\n",
    "\n",
    "print(f'Number of Connected Components: {num_components}')\n",
    "print(f'Size of Each Component: {component_sizes}')"
   ]
  },
  {
   "cell_type": "markdown",
   "metadata": {},
   "source": [
    "Imam jednu dzinovsku komponentu?"
   ]
  },
  {
   "cell_type": "code",
   "execution_count": 45,
   "metadata": {},
   "outputs": [
    {
     "name": "stdout",
     "output_type": "stream",
     "text": [
      "Number of Connected Components: 1\n",
      "Size of Each Component: [53]\n"
     ]
    }
   ],
   "source": [
    "if nx.is_connected(G):\n",
    "    # For connected graph, number of connected components is 1\n",
    "    num_components = 1\n",
    "    component_sizes = [len(G.nodes)]\n",
    "else:\n",
    "    # For disconnected graph\n",
    "    components = list(nx.connected_components(G))\n",
    "    num_components = len(components)\n",
    "    component_sizes = [len(component) for component in components]\n",
    "\n",
    "print(f'Number of Connected Components: {num_components}')\n",
    "print(f'Size of Each Component: {component_sizes}')"
   ]
  },
  {
   "cell_type": "code",
   "execution_count": 47,
   "metadata": {},
   "outputs": [],
   "source": [
    "def calculate_centralities(G):\n",
    "\n",
    "    DC_dict = nx.degree_centrality(G)\n",
    "    CC_dict = nx.closeness_centrality(G)\n",
    "    BC_dict = nx.betweenness_centrality(G)\n",
    "    EVC_dict = nx.eigenvector_centrality(G)\n",
    "\n",
    "    df1 = pd.DataFrame.from_dict(DC_dict, orient='index', columns=['DC'])\n",
    "    df2 = pd.DataFrame.from_dict(CC_dict, orient='index', columns=['CC'])\n",
    "    df3 = pd.DataFrame.from_dict(BC_dict, orient='index', columns=['BC'])\n",
    "    df4 = pd.DataFrame.from_dict(EVC_dict, orient='index', columns=['EVC'])\n",
    "    df = pd.concat([df1, df2, df3, df4], axis=1)\n",
    "    return df"
   ]
  },
  {
   "cell_type": "code",
   "execution_count": 48,
   "metadata": {},
   "outputs": [
    {
     "name": "stdout",
     "output_type": "stream",
     "text": [
      "                                      DC        CC        BC       EVC\n",
      "tanja jovanovic                 0.192308  0.504854  0.028419  0.141412\n",
      "branislava savic                0.134615  0.400000  0.007689  0.053655\n",
      "sanja mitrovic                  0.153846  0.452174  0.057838  0.044523\n",
      "lazar ranin                     0.230769  0.440678  0.058853  0.100766\n",
      "valentina arsic-arsenijevic     0.134615  0.444444  0.032813  0.044053\n",
      "slobodanka djukic               0.173077  0.485981  0.025996  0.102227\n",
      "maja cupic                      0.288462  0.514851  0.065122  0.184637\n",
      "natasa vuckovic-opavski         0.019231  0.307692  0.000000  0.009229\n",
      "aleksandar dzamic               0.173077  0.477064  0.057653  0.071758\n",
      "dragana vukovic                 0.230769  0.456140  0.049766  0.090203\n",
      "ivana dakic                     0.134615  0.385185  0.004168  0.051220\n",
      "aleksandra knezevic             0.192308  0.514851  0.030857  0.137538\n",
      "ivana lazarevic                 0.365385  0.553191  0.171774  0.303525\n",
      "maja stanojevic                 0.192308  0.481481  0.030816  0.137764\n",
      "vera mijac                      0.269231  0.500000  0.073322  0.120571\n",
      "ivana cirkovic                  0.153846  0.448276  0.014156  0.079333\n",
      "ivana colovic-colovski          0.057692  0.363636  0.000000  0.014684\n",
      "ana banko                       0.115385  0.440678  0.000954  0.105902\n",
      "ina gajic                       0.134615  0.422764  0.012019  0.075959\n",
      "irena arandjelovic              0.115385  0.353741  0.000974  0.037618\n",
      "eleonora dubljanin              0.115385  0.385185  0.006095  0.030715\n",
      "dusan kekic                     0.096154  0.366197  0.000680  0.038935\n",
      "vera pravica                    0.230769  0.509804  0.053923  0.123297\n",
      "dusan popadic                   0.192308  0.460177  0.034331  0.083889\n",
      "vladimir trajkovic              0.211538  0.452174  0.025911  0.095458\n",
      "milos markovic                  0.153846  0.426230  0.003951  0.070611\n",
      "emina milosevic                 0.153846  0.429752  0.014123  0.066965\n",
      "vladimir perovic                0.115385  0.390977  0.000804  0.048081\n",
      "irena vukovic-petrovic          0.115385  0.390977  0.000804  0.048081\n",
      "ljiljana markovic-denic         0.192308  0.433333  0.067787  0.158107\n",
      "sandra sipetic-grujicic         0.153846  0.444444  0.029480  0.066251\n",
      "tatjana pekmezovic              0.230769  0.440678  0.096930  0.077121\n",
      "darija kisic-tepavcevic         0.134615  0.356164  0.000000  0.030715\n",
      "jadranka maksimovic             0.192308  0.400000  0.016197  0.052116\n",
      "natasa maksimovic               0.192308  0.400000  0.016197  0.052116\n",
      "isidora vujcic                  0.211538  0.422764  0.040717  0.048606\n",
      "tatjana gazibara                0.134615  0.356164  0.000000  0.030715\n",
      "gorica maric                    0.134615  0.356164  0.000000  0.030715\n",
      "vuk marusic                     0.153846  0.388060  0.010199  0.043980\n",
      "vladimir nikolic                0.019231  0.322981  0.000000  0.021817\n",
      "jasmina simonovic-babic         0.192308  0.452174  0.007811  0.215929\n",
      "milos korac                     0.269231  0.485981  0.046700  0.265604\n",
      "jovan ranin                     0.134615  0.460177  0.020142  0.106131\n",
      "branko milosevic                0.173077  0.452174  0.016910  0.185186\n",
      "goran stevanovic                0.288462  0.509804  0.066559  0.265913\n",
      "jasmina poluga                  0.192308  0.390977  0.001550  0.215045\n",
      "ksenija bojovic                 0.250000  0.472727  0.064279  0.238222\n",
      "ivana milosevic                 0.250000  0.464286  0.014295  0.263945\n",
      "aleksandra radovanovic-spurnic  0.096154  0.371429  0.000000  0.121198\n",
      "nikola mitrovic                 0.250000  0.464286  0.014295  0.263945\n",
      "natasa nikolic                  0.250000  0.464286  0.014295  0.263945\n",
      "jelena jordovic                 0.192308  0.429752  0.002104  0.227244\n",
      "jovan malinic                   0.134615  0.358621  0.000000  0.158132\n"
     ]
    }
   ],
   "source": [
    "df = calculate_centralities(G)\n",
    "print(df)"
   ]
  },
  {
   "cell_type": "code",
   "execution_count": 49,
   "metadata": {},
   "outputs": [
    {
     "name": "stdout",
     "output_type": "stream",
     "text": [
      "Centralization: 0.0038\n"
     ]
    }
   ],
   "source": [
    "# Calculate centralization\n",
    "def centralization(G):\n",
    "    centralities = nx.degree_centrality(G)\n",
    "    max_centrality = max(centralities.values())\n",
    "    centralization = sum(max_centrality - c for c in centralities.values()) / ((len(G) - 1) * (len(G) - 2))\n",
    "    return centralization\n",
    "\n",
    "centralization_value = centralization(G)\n",
    "print(f'Centralization: {centralization_value:.4f}')"
   ]
  },
  {
   "cell_type": "code",
   "execution_count": null,
   "metadata": {},
   "outputs": [],
   "source": []
  }
 ],
 "metadata": {
  "kernelspec": {
   "display_name": "base",
   "language": "python",
   "name": "python3"
  },
  "language_info": {
   "codemirror_mode": {
    "name": "ipython",
    "version": 3
   },
   "file_extension": ".py",
   "mimetype": "text/x-python",
   "name": "python",
   "nbconvert_exporter": "python",
   "pygments_lexer": "ipython3",
   "version": "3.9.13"
  }
 },
 "nbformat": 4,
 "nbformat_minor": 2
}
